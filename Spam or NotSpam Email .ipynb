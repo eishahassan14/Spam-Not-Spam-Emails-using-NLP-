{
 "cells": [
  {
   "cell_type": "code",
   "execution_count": 1,
   "metadata": {},
   "outputs": [
    {
     "name": "stdout",
     "output_type": "stream",
     "text": [
      "what's up?\n"
     ]
    }
   ],
   "source": [
    "print('what\\'s up?')"
   ]
  },
  {
   "cell_type": "markdown",
   "metadata": {},
   "source": [
    "# NOTEBOOK IMPORTS"
   ]
  },
  {
   "cell_type": "code",
   "execution_count": 234,
   "metadata": {},
   "outputs": [],
   "source": [
    "from os import walk\n",
    "from os.path import join\n",
    "\n",
    "import pandas as pd\n",
    "import numpy as np\n",
    "\n",
    "import matplotlib.pyplot as plt\n",
    "\n",
    "import nltk\n",
    "from nltk.stem import PorterStemmer\n",
    "from nltk.corpus import stopwords\n",
    "from nltk.tokenize import word_tokenize\n",
    "\n",
    "from bs4 import BeautifulSoup\n",
    "\n",
    "from sklearn.model_selection import train_test_split\n",
    "\n",
    "%matplotlib inline"
   ]
  },
  {
   "cell_type": "markdown",
   "metadata": {},
   "source": [
    "# CONSTANTS"
   ]
  },
  {
   "cell_type": "code",
   "execution_count": 251,
   "metadata": {},
   "outputs": [],
   "source": [
    "EXAMPLE_FILE='SpamData/01_Processing/practice_email.txt'\n",
    "SPAM_1_PATH='SpamData/01_Processing/spam_assassin_corpus/spam_1'\n",
    "SPAM_2_PATH='SpamData/01_Processing/spam_assassin_corpus/spam_2'\n",
    "EASY_NONSPAM_1_PATH='SpamData/01_Processing/spam_assassin_corpus/easy_ham_1'\n",
    "EASY_NONSPAM_2_PATH='SpamData/01_Processing/spam_assassin_corpus/easy_ham_2'\n",
    "\n",
    "SPAM_CAT=1\n",
    "HAM_CAT=0\n",
    "VOCAB_SIZE=2500\n",
    "\n",
    "TRAINING_DATA_FILE = 'SpamData/02_Training/train-data.txt'\n",
    "TEST_DATA_FILE = 'SpamData/02_Training/test-data.txt'\n",
    "\n",
    "DATA_JSON_FILE='SpamData/01_Processing/email-text-data.json'\n",
    "WORD_ID_FILE = 'SpamData/01_Processing/word-by-id.csv'"
   ]
  },
  {
   "cell_type": "markdown",
   "metadata": {},
   "source": [
    "# READING FILES"
   ]
  },
  {
   "cell_type": "code",
   "execution_count": 7,
   "metadata": {},
   "outputs": [
    {
     "name": "stdout",
     "output_type": "stream",
     "text": [
      "<class 'str'>\n",
      "From exmh-workers-admin@redhat.com  Thu Aug 22 12:36:23 2002\n",
      "Return-Path: <exmh-workers-admin@spamassassin.taint.org>\n",
      "Delivered-To: zzzz@localhost.netnoteinc.com\n",
      "Received: from localhost (localhost [127.0.0.1])\n",
      "\tby phobos.labs.netnoteinc.com (Postfix) with ESMTP id D03E543C36\n",
      "\tfor <zzzz@localhost>; Thu, 22 Aug 2002 07:36:16 -0400 (EDT)\n",
      "Received: from phobos [127.0.0.1]\n",
      "\tby localhost with IMAP (fetchmail-5.9.0)\n",
      "\tfor zzzz@localhost (single-drop); Thu, 22 Aug 2002 12:36:16 +0100 (IST)\n",
      "Received: from listman.spamassassin.taint.org (listman.spamassassin.taint.org [66.187.233.211]) by\n",
      "    dogma.slashnull.org (8.11.6/8.11.6) with ESMTP id g7MBYrZ04811 for\n",
      "    <zzzz-exmh@spamassassin.taint.org>; Thu, 22 Aug 2002 12:34:53 +0100\n",
      "Received: from listman.spamassassin.taint.org (localhost.localdomain [127.0.0.1]) by\n",
      "    listman.redhat.com (Postfix) with ESMTP id 8386540858; Thu, 22 Aug 2002\n",
      "    07:35:02 -0400 (EDT)\n",
      "Delivered-To: exmh-workers@listman.spamassassin.taint.org\n",
      "Received: from int-mx1.corp.spamassassin.taint.org (int-mx1.corp.spamassassin.taint.org\n",
      "    [172.16.52.254]) by listman.redhat.com (Postfix) with ESMTP id 10CF8406D7\n",
      "    for <exmh-workers@listman.redhat.com>; Thu, 22 Aug 2002 07:34:10 -0400\n",
      "    (EDT)\n",
      "Received: (from mail@localhost) by int-mx1.corp.spamassassin.taint.org (8.11.6/8.11.6)\n",
      "    id g7MBY7g11259 for exmh-workers@listman.redhat.com; Thu, 22 Aug 2002\n",
      "    07:34:07 -0400\n",
      "Received: from mx1.spamassassin.taint.org (mx1.spamassassin.taint.org [172.16.48.31]) by\n",
      "    int-mx1.corp.redhat.com (8.11.6/8.11.6) with SMTP id g7MBY7Y11255 for\n",
      "    <exmh-workers@redhat.com>; Thu, 22 Aug 2002 07:34:07 -0400\n",
      "Received: from ratree.psu.ac.th ([202.28.97.6]) by mx1.spamassassin.taint.org\n",
      "    (8.11.6/8.11.6) with SMTP id g7MBIhl25223 for <exmh-workers@redhat.com>;\n",
      "    Thu, 22 Aug 2002 07:18:55 -0400\n",
      "Received: from delta.cs.mu.OZ.AU (delta.coe.psu.ac.th [172.30.0.98]) by\n",
      "    ratree.psu.ac.th (8.11.6/8.11.6) with ESMTP id g7MBWel29762;\n",
      "    Thu, 22 Aug 2002 18:32:40 +0700 (ICT)\n",
      "Received: from munnari.OZ.AU (localhost [127.0.0.1]) by delta.cs.mu.OZ.AU\n",
      "    (8.11.6/8.11.6) with ESMTP id g7MBQPW13260; Thu, 22 Aug 2002 18:26:25\n",
      "    +0700 (ICT)\n",
      "From: Robert Elz <kre@munnari.OZ.AU>\n",
      "To: Chris Garrigues <cwg-dated-1030377287.06fa6d@DeepEddy.Com>\n",
      "Cc: exmh-workers@spamassassin.taint.org\n",
      "Subject: Re: New Sequences Window\n",
      "In-Reply-To: <1029945287.4797.TMDA@deepeddy.vircio.com>\n",
      "References: <1029945287.4797.TMDA@deepeddy.vircio.com>\n",
      "    <1029882468.3116.TMDA@deepeddy.vircio.com> <9627.1029933001@munnari.OZ.AU>\n",
      "    <1029943066.26919.TMDA@deepeddy.vircio.com>\n",
      "    <1029944441.398.TMDA@deepeddy.vircio.com>\n",
      "MIME-Version: 1.0\n",
      "Content-Type: text/plain; charset=us-ascii\n",
      "Message-Id: <13258.1030015585@munnari.OZ.AU>\n",
      "X-Loop: exmh-workers@spamassassin.taint.org\n",
      "Sender: exmh-workers-admin@spamassassin.taint.org\n",
      "Errors-To: exmh-workers-admin@spamassassin.taint.org\n",
      "X-Beenthere: exmh-workers@spamassassin.taint.org\n",
      "X-Mailman-Version: 2.0.1\n",
      "Precedence: bulk\n",
      "List-Help: <mailto:exmh-workers-request@spamassassin.taint.org?subject=help>\n",
      "List-Post: <mailto:exmh-workers@spamassassin.taint.org>\n",
      "List-Subscribe: <https://listman.spamassassin.taint.org/mailman/listinfo/exmh-workers>,\n",
      "    <mailto:exmh-workers-request@redhat.com?subject=subscribe>\n",
      "List-Id: Discussion list for EXMH developers <exmh-workers.spamassassin.taint.org>\n",
      "List-Unsubscribe: <https://listman.spamassassin.taint.org/mailman/listinfo/exmh-workers>,\n",
      "    <mailto:exmh-workers-request@redhat.com?subject=unsubscribe>\n",
      "List-Archive: <https://listman.spamassassin.taint.org/mailman/private/exmh-workers/>\n",
      "Date: Thu, 22 Aug 2002 18:26:25 +0700\n",
      "\n",
      "\n",
      "Dear Mr Still\n",
      "\n",
      "Good tidings to you and all your staff for the festive season ahead (Christmas).\n",
      "Now to the crux of the matter-in-hand: I am a fully qualified Santa Claus and am wondering whether you might consider me to run my own \"Santa's Grotto\" in your store.\n",
      "But WAIT! You're probably thinking: \"What makes him so special?\"\n",
      "Well, first of all, I have made several changes to the characterisation of Father Christmas. Rather than greeting the children with shouts of \"Ho, ho, ho!\" I prefer to whisper the phrase \"Dependence is not unfathomable in this cruel world we live in\". In addition, my gifts are ALL hand-made, ranging from felt hoops to vanilla-pod holders.\n",
      "You will note also, from the enclosed sketch, that I have radically redesigned Santa's outfit and have renamed my character \"Lord Buckles\". Would you be interested in employing me? I promise NEVER to let you down.\n",
      "I look forward to hearing from you.\n",
      "\n",
      "Best wishes\n",
      "Robin Cooper\n",
      "[Excerpt from the book: The Timewaster Letters by Robin Cooper]\n",
      "\n"
     ]
    }
   ],
   "source": [
    "stream=open(EXAMPLE_FILE,encoding='latin-1')\n",
    "message= stream.read()\n",
    "stream.close()\n",
    "\n",
    "print(type(message))\n",
    "print(message)"
   ]
  },
  {
   "cell_type": "code",
   "execution_count": 6,
   "metadata": {},
   "outputs": [
    {
     "data": {
      "text/plain": [
       "'utf-8'"
      ]
     },
     "execution_count": 6,
     "metadata": {},
     "output_type": "execute_result"
    }
   ],
   "source": [
    "import sys \n",
    "sys.getfilesystemencoding()"
   ]
  },
  {
   "cell_type": "code",
   "execution_count": null,
   "metadata": {},
   "outputs": [],
   "source": []
  },
  {
   "cell_type": "code",
   "execution_count": 150,
   "metadata": {},
   "outputs": [
    {
     "name": "stdout",
     "output_type": "stream",
     "text": [
      "\n",
      "\n",
      "Dear Mr Still\n",
      "\n",
      "\n",
      "\n",
      "Good tidings to you and all your staff for the festive season ahead (Christmas).\n",
      "\n",
      "Now to the crux of the matter-in-hand: I am a fully qualified Santa Claus and am wondering whether you might consider me to run my own \"Santa's Grotto\" in your store.\n",
      "\n",
      "But WAIT! You're probably thinking: \"What makes him so special?\"\n",
      "\n",
      "Well, first of all, I have made several changes to the characterisation of Father Christmas. Rather than greeting the children with shouts of \"Ho, ho, ho!\" I prefer to whisper the phrase \"Dependence is not unfathomable in this cruel world we live in\". In addition, my gifts are ALL hand-made, ranging from felt hoops to vanilla-pod holders.\n",
      "\n",
      "You will note also, from the enclosed sketch, that I have radically redesigned Santa's outfit and have renamed my character \"Lord Buckles\". Would you be interested in employing me? I promise NEVER to let you down.\n",
      "\n",
      "I look forward to hearing from you.\n",
      "\n",
      "\n",
      "\n",
      "Best wishes\n",
      "\n",
      "Robin Cooper\n",
      "\n",
      "[Excerpt from the book: The Timewaster Letters by Robin Cooper]\n",
      "\n"
     ]
    }
   ],
   "source": [
    "stream = open(EXAMPLE_FILE, encoding='latin-1')\n",
    "\n",
    "is_body = False\n",
    "lines = []\n",
    "\n",
    "for line in stream:\n",
    "    if is_body:\n",
    "        lines.append(line)\n",
    "    elif line == '\\n':\n",
    "        is_body = True\n",
    "\n",
    "stream.close()\n",
    "\n",
    "email_body = '\\n'.join(lines)\n",
    "print(email_body)\n",
    "\n"
   ]
  },
  {
   "cell_type": "markdown",
   "metadata": {},
   "source": [
    "# Generator Functions"
   ]
  },
  {
   "cell_type": "code",
   "execution_count": 9,
   "metadata": {},
   "outputs": [],
   "source": [
    "def generate_squares(N):\n",
    "    for my_number in range(N):\n",
    "        yield my_number**2"
   ]
  },
  {
   "cell_type": "code",
   "execution_count": 10,
   "metadata": {},
   "outputs": [
    {
     "name": "stdout",
     "output_type": "stream",
     "text": [
      "0->1->4->9->16->"
     ]
    }
   ],
   "source": [
    "for i in generate_squares(5):\n",
    "    print(i,end='->')"
   ]
  },
  {
   "cell_type": "markdown",
   "metadata": {},
   "source": [
    "## Email body extraction"
   ]
  },
  {
   "cell_type": "code",
   "execution_count": 151,
   "metadata": {},
   "outputs": [],
   "source": [
    "def email_body_generator(path):\n",
    "    \n",
    "    for root, dirnames, filenames in walk(path):\n",
    "        for file_name in filenames:\n",
    "            \n",
    "            filepath = join(root, file_name)\n",
    "            \n",
    "            stream = open(filepath, encoding='latin-1')\n",
    "\n",
    "            is_body = False\n",
    "            lines = []\n",
    "\n",
    "            for line in stream:\n",
    "                if is_body:\n",
    "                    lines.append(line)\n",
    "                elif line == '\\n':\n",
    "                    is_body = True\n",
    "\n",
    "            stream.close()\n",
    "\n",
    "            email_body = '\\n'.join(lines)\n",
    "            \n",
    "            yield file_name, email_body"
   ]
  },
  {
   "cell_type": "code",
   "execution_count": 152,
   "metadata": {},
   "outputs": [],
   "source": [
    "def df_from_directory(path, classification):\n",
    "    rows = []\n",
    "    row_names = []\n",
    "    \n",
    "    for file_name, email_body in email_body_generator(path):\n",
    "        rows.append({'MESSAGE': email_body, 'CATEGORY': classification})\n",
    "        row_names.append(file_name)\n",
    "        \n",
    "    return pd.DataFrame(rows, index=row_names)"
   ]
  },
  {
   "cell_type": "code",
   "execution_count": null,
   "metadata": {},
   "outputs": [],
   "source": []
  },
  {
   "cell_type": "code",
   "execution_count": 153,
   "metadata": {},
   "outputs": [
    {
     "data": {
      "text/html": [
       "<div>\n",
       "<style scoped>\n",
       "    .dataframe tbody tr th:only-of-type {\n",
       "        vertical-align: middle;\n",
       "    }\n",
       "\n",
       "    .dataframe tbody tr th {\n",
       "        vertical-align: top;\n",
       "    }\n",
       "\n",
       "    .dataframe thead th {\n",
       "        text-align: right;\n",
       "    }\n",
       "</style>\n",
       "<table border=\"1\" class=\"dataframe\">\n",
       "  <thead>\n",
       "    <tr style=\"text-align: right;\">\n",
       "      <th></th>\n",
       "      <th>MESSAGE</th>\n",
       "      <th>CATEGORY</th>\n",
       "    </tr>\n",
       "  </thead>\n",
       "  <tbody>\n",
       "    <tr>\n",
       "      <td>00001.7848dde101aa985090474a91ec93fcf0</td>\n",
       "      <td>&lt;!DOCTYPE HTML PUBLIC \"-//W3C//DTD HTML 4.0 Tr...</td>\n",
       "      <td>1</td>\n",
       "    </tr>\n",
       "    <tr>\n",
       "      <td>00002.d94f1b97e48ed3b553b3508d116e6a09</td>\n",
       "      <td>1) Fight The Risk of Cancer!\\n\\nhttp://www.adc...</td>\n",
       "      <td>1</td>\n",
       "    </tr>\n",
       "    <tr>\n",
       "      <td>00003.2ee33bc6eacdb11f38d052c44819ba6c</td>\n",
       "      <td>1) Fight The Risk of Cancer!\\n\\nhttp://www.adc...</td>\n",
       "      <td>1</td>\n",
       "    </tr>\n",
       "    <tr>\n",
       "      <td>00004.eac8de8d759b7e74154f142194282724</td>\n",
       "      <td>##############################################...</td>\n",
       "      <td>1</td>\n",
       "    </tr>\n",
       "    <tr>\n",
       "      <td>00005.57696a39d7d84318ce497886896bf90d</td>\n",
       "      <td>I thought you might like these:\\n\\n1) Slim Dow...</td>\n",
       "      <td>1</td>\n",
       "    </tr>\n",
       "  </tbody>\n",
       "</table>\n",
       "</div>"
      ],
      "text/plain": [
       "                                                                                  MESSAGE  \\\n",
       "00001.7848dde101aa985090474a91ec93fcf0  <!DOCTYPE HTML PUBLIC \"-//W3C//DTD HTML 4.0 Tr...   \n",
       "00002.d94f1b97e48ed3b553b3508d116e6a09  1) Fight The Risk of Cancer!\\n\\nhttp://www.adc...   \n",
       "00003.2ee33bc6eacdb11f38d052c44819ba6c  1) Fight The Risk of Cancer!\\n\\nhttp://www.adc...   \n",
       "00004.eac8de8d759b7e74154f142194282724  ##############################################...   \n",
       "00005.57696a39d7d84318ce497886896bf90d  I thought you might like these:\\n\\n1) Slim Dow...   \n",
       "\n",
       "                                        CATEGORY  \n",
       "00001.7848dde101aa985090474a91ec93fcf0         1  \n",
       "00002.d94f1b97e48ed3b553b3508d116e6a09         1  \n",
       "00003.2ee33bc6eacdb11f38d052c44819ba6c         1  \n",
       "00004.eac8de8d759b7e74154f142194282724         1  \n",
       "00005.57696a39d7d84318ce497886896bf90d         1  "
      ]
     },
     "execution_count": 153,
     "metadata": {},
     "output_type": "execute_result"
    }
   ],
   "source": [
    "spam_emails= df_from_directory(SPAM_1_PATH,1)\n",
    "spam_emails= spam_emails.append(df_from_directory(SPAM_2_PATH,1))\n",
    "spam_emails.head()"
   ]
  },
  {
   "cell_type": "code",
   "execution_count": 145,
   "metadata": {},
   "outputs": [
    {
     "data": {
      "text/html": [
       "<div>\n",
       "<style scoped>\n",
       "    .dataframe tbody tr th:only-of-type {\n",
       "        vertical-align: middle;\n",
       "    }\n",
       "\n",
       "    .dataframe tbody tr th {\n",
       "        vertical-align: top;\n",
       "    }\n",
       "\n",
       "    .dataframe thead th {\n",
       "        text-align: right;\n",
       "    }\n",
       "</style>\n",
       "<table border=\"1\" class=\"dataframe\">\n",
       "  <thead>\n",
       "    <tr style=\"text-align: right;\">\n",
       "      <th></th>\n",
       "      <th>MESSAGE</th>\n",
       "      <th>CATEGORY</th>\n",
       "    </tr>\n",
       "  </thead>\n",
       "  <tbody>\n",
       "    <tr>\n",
       "      <td>00001.7848dde101aa985090474a91ec93fcf0</td>\n",
       "      <td>&lt;!DOCTYPE HTML PUBLIC \"-//W3C//DTD HTML 4.0 Tr...</td>\n",
       "      <td>1</td>\n",
       "    </tr>\n",
       "    <tr>\n",
       "      <td>00002.d94f1b97e48ed3b553b3508d116e6a09</td>\n",
       "      <td>1) Fight The Risk of Cancer!\\n\\nhttp://www.adc...</td>\n",
       "      <td>1</td>\n",
       "    </tr>\n",
       "    <tr>\n",
       "      <td>00003.2ee33bc6eacdb11f38d052c44819ba6c</td>\n",
       "      <td>1) Fight The Risk of Cancer!\\n\\nhttp://www.adc...</td>\n",
       "      <td>1</td>\n",
       "    </tr>\n",
       "    <tr>\n",
       "      <td>00004.eac8de8d759b7e74154f142194282724</td>\n",
       "      <td>##############################################...</td>\n",
       "      <td>1</td>\n",
       "    </tr>\n",
       "    <tr>\n",
       "      <td>00005.57696a39d7d84318ce497886896bf90d</td>\n",
       "      <td>I thought you might like these:\\n\\n1) Slim Dow...</td>\n",
       "      <td>1</td>\n",
       "    </tr>\n",
       "    <tr>\n",
       "      <td>...</td>\n",
       "      <td>...</td>\n",
       "      <td>...</td>\n",
       "    </tr>\n",
       "    <tr>\n",
       "      <td>01397.f75f0dd0dd923faefa3e9cc5ecb8c906</td>\n",
       "      <td>This is a multi-part message in MIME format.\\n...</td>\n",
       "      <td>1</td>\n",
       "    </tr>\n",
       "    <tr>\n",
       "      <td>01398.8ca7045aae4184d56e8509dc5ad6d979</td>\n",
       "      <td>Dear Subscriber,\\n\\n\\n\\nIf I could show you a ...</td>\n",
       "      <td>1</td>\n",
       "    </tr>\n",
       "    <tr>\n",
       "      <td>01399.2319643317e2c5193d574e40a71809c2</td>\n",
       "      <td>****Mid-Summer Customer Appreciation SALE!****...</td>\n",
       "      <td>1</td>\n",
       "    </tr>\n",
       "    <tr>\n",
       "      <td>01400.b444b69845db2fa0a4693ca04e6ac5c5</td>\n",
       "      <td>ATTN:SIR/MADAN      \\n\\n\\n\\n                  ...</td>\n",
       "      <td>1</td>\n",
       "    </tr>\n",
       "    <tr>\n",
       "      <td>cmds</td>\n",
       "      <td></td>\n",
       "      <td>1</td>\n",
       "    </tr>\n",
       "  </tbody>\n",
       "</table>\n",
       "<p>1898 rows × 2 columns</p>\n",
       "</div>"
      ],
      "text/plain": [
       "                                                                                  MESSAGE  \\\n",
       "00001.7848dde101aa985090474a91ec93fcf0  <!DOCTYPE HTML PUBLIC \"-//W3C//DTD HTML 4.0 Tr...   \n",
       "00002.d94f1b97e48ed3b553b3508d116e6a09  1) Fight The Risk of Cancer!\\n\\nhttp://www.adc...   \n",
       "00003.2ee33bc6eacdb11f38d052c44819ba6c  1) Fight The Risk of Cancer!\\n\\nhttp://www.adc...   \n",
       "00004.eac8de8d759b7e74154f142194282724  ##############################################...   \n",
       "00005.57696a39d7d84318ce497886896bf90d  I thought you might like these:\\n\\n1) Slim Dow...   \n",
       "...                                                                                   ...   \n",
       "01397.f75f0dd0dd923faefa3e9cc5ecb8c906  This is a multi-part message in MIME format.\\n...   \n",
       "01398.8ca7045aae4184d56e8509dc5ad6d979  Dear Subscriber,\\n\\n\\n\\nIf I could show you a ...   \n",
       "01399.2319643317e2c5193d574e40a71809c2  ****Mid-Summer Customer Appreciation SALE!****...   \n",
       "01400.b444b69845db2fa0a4693ca04e6ac5c5  ATTN:SIR/MADAN      \\n\\n\\n\\n                  ...   \n",
       "cmds                                                                                        \n",
       "\n",
       "                                        CATEGORY  \n",
       "00001.7848dde101aa985090474a91ec93fcf0         1  \n",
       "00002.d94f1b97e48ed3b553b3508d116e6a09         1  \n",
       "00003.2ee33bc6eacdb11f38d052c44819ba6c         1  \n",
       "00004.eac8de8d759b7e74154f142194282724         1  \n",
       "00005.57696a39d7d84318ce497886896bf90d         1  \n",
       "...                                          ...  \n",
       "01397.f75f0dd0dd923faefa3e9cc5ecb8c906         1  \n",
       "01398.8ca7045aae4184d56e8509dc5ad6d979         1  \n",
       "01399.2319643317e2c5193d574e40a71809c2         1  \n",
       "01400.b444b69845db2fa0a4693ca04e6ac5c5         1  \n",
       "cmds                                           1  \n",
       "\n",
       "[1898 rows x 2 columns]"
      ]
     },
     "execution_count": 145,
     "metadata": {},
     "output_type": "execute_result"
    }
   ],
   "source": [
    "spam_emails"
   ]
  },
  {
   "cell_type": "code",
   "execution_count": 25,
   "metadata": {},
   "outputs": [
    {
     "data": {
      "text/plain": [
       "(3901, 2)"
      ]
     },
     "execution_count": 25,
     "metadata": {},
     "output_type": "execute_result"
    }
   ],
   "source": [
    "ham_emails = df_from_directory(EASY_NONSPAM_1_PATH,HAM_CAT)\n",
    "ham_emails=ham_emails.append(df_from_directory(EASY_NONSPAM_2_PATH,HAM_CAT))\n",
    "ham_emails.shape"
   ]
  },
  {
   "cell_type": "code",
   "execution_count": 27,
   "metadata": {},
   "outputs": [
    {
     "name": "stdout",
     "output_type": "stream",
     "text": [
      "shape of entire data_set is =  (5799, 2)\n"
     ]
    },
    {
     "data": {
      "text/html": [
       "<div>\n",
       "<style scoped>\n",
       "    .dataframe tbody tr th:only-of-type {\n",
       "        vertical-align: middle;\n",
       "    }\n",
       "\n",
       "    .dataframe tbody tr th {\n",
       "        vertical-align: top;\n",
       "    }\n",
       "\n",
       "    .dataframe thead th {\n",
       "        text-align: right;\n",
       "    }\n",
       "</style>\n",
       "<table border=\"1\" class=\"dataframe\">\n",
       "  <thead>\n",
       "    <tr style=\"text-align: right;\">\n",
       "      <th></th>\n",
       "      <th>MESSAGE</th>\n",
       "      <th>CATEGORY</th>\n",
       "    </tr>\n",
       "  </thead>\n",
       "  <tbody>\n",
       "    <tr>\n",
       "      <td>00001.7848dde101aa985090474a91ec93fcf0</td>\n",
       "      <td>&lt;!DOCTYPE HTML PUBLIC \"-//W3C//DTD HTML 4.0 Tr...</td>\n",
       "      <td>1</td>\n",
       "    </tr>\n",
       "    <tr>\n",
       "      <td>00002.d94f1b97e48ed3b553b3508d116e6a09</td>\n",
       "      <td>1) Fight The Risk of Cancer!\\n\\nhttp://www.adc...</td>\n",
       "      <td>1</td>\n",
       "    </tr>\n",
       "    <tr>\n",
       "      <td>00003.2ee33bc6eacdb11f38d052c44819ba6c</td>\n",
       "      <td>1) Fight The Risk of Cancer!\\n\\nhttp://www.adc...</td>\n",
       "      <td>1</td>\n",
       "    </tr>\n",
       "    <tr>\n",
       "      <td>00004.eac8de8d759b7e74154f142194282724</td>\n",
       "      <td>##############################################...</td>\n",
       "      <td>1</td>\n",
       "    </tr>\n",
       "    <tr>\n",
       "      <td>00005.57696a39d7d84318ce497886896bf90d</td>\n",
       "      <td>I thought you might like these:\\n\\n1) Slim Dow...</td>\n",
       "      <td>1</td>\n",
       "    </tr>\n",
       "  </tbody>\n",
       "</table>\n",
       "</div>"
      ],
      "text/plain": [
       "                                                                                  MESSAGE  \\\n",
       "00001.7848dde101aa985090474a91ec93fcf0  <!DOCTYPE HTML PUBLIC \"-//W3C//DTD HTML 4.0 Tr...   \n",
       "00002.d94f1b97e48ed3b553b3508d116e6a09  1) Fight The Risk of Cancer!\\n\\nhttp://www.adc...   \n",
       "00003.2ee33bc6eacdb11f38d052c44819ba6c  1) Fight The Risk of Cancer!\\n\\nhttp://www.adc...   \n",
       "00004.eac8de8d759b7e74154f142194282724  ##############################################...   \n",
       "00005.57696a39d7d84318ce497886896bf90d  I thought you might like these:\\n\\n1) Slim Dow...   \n",
       "\n",
       "                                        CATEGORY  \n",
       "00001.7848dde101aa985090474a91ec93fcf0         1  \n",
       "00002.d94f1b97e48ed3b553b3508d116e6a09         1  \n",
       "00003.2ee33bc6eacdb11f38d052c44819ba6c         1  \n",
       "00004.eac8de8d759b7e74154f142194282724         1  \n",
       "00005.57696a39d7d84318ce497886896bf90d         1  "
      ]
     },
     "execution_count": 27,
     "metadata": {},
     "output_type": "execute_result"
    }
   ],
   "source": [
    "data= pd.concat([spam_emails,ham_emails])\n",
    "print('shape of entire data_set is = ', data.shape)\n",
    "data.head()"
   ]
  },
  {
   "cell_type": "code",
   "execution_count": 28,
   "metadata": {},
   "outputs": [
    {
     "data": {
      "text/html": [
       "<div>\n",
       "<style scoped>\n",
       "    .dataframe tbody tr th:only-of-type {\n",
       "        vertical-align: middle;\n",
       "    }\n",
       "\n",
       "    .dataframe tbody tr th {\n",
       "        vertical-align: top;\n",
       "    }\n",
       "\n",
       "    .dataframe thead th {\n",
       "        text-align: right;\n",
       "    }\n",
       "</style>\n",
       "<table border=\"1\" class=\"dataframe\">\n",
       "  <thead>\n",
       "    <tr style=\"text-align: right;\">\n",
       "      <th></th>\n",
       "      <th>MESSAGE</th>\n",
       "      <th>CATEGORY</th>\n",
       "    </tr>\n",
       "  </thead>\n",
       "  <tbody>\n",
       "    <tr>\n",
       "      <td>01396.61983fbe6ec43f55fd44e30fce24ffa6</td>\n",
       "      <td>http://news.bbc.co.uk/1/hi/england/2515127.stm...</td>\n",
       "      <td>0</td>\n",
       "    </tr>\n",
       "    <tr>\n",
       "      <td>01397.9f9ef4c2a8dc012d80f2ce2d3473d3b7</td>\n",
       "      <td>&gt; &gt;-- be careful when using this one.) Also, t...</td>\n",
       "      <td>0</td>\n",
       "    </tr>\n",
       "    <tr>\n",
       "      <td>01398.169b51731fe569f42169ae8f948ec676</td>\n",
       "      <td>&gt;&gt;&gt;&gt;&gt; \"SM\" == Skip Montanaro &lt;skip@pobox.com&gt; ...</td>\n",
       "      <td>0</td>\n",
       "    </tr>\n",
       "    <tr>\n",
       "      <td>01399.ca6b00b7b341bbde9a9ea3dd6a7bf896</td>\n",
       "      <td>So then, \"Mark Hammond\" &lt;mhammond@skippinet.co...</td>\n",
       "      <td>0</td>\n",
       "    </tr>\n",
       "    <tr>\n",
       "      <td>01400.f897f0931e461e7b2e964d28e927c35e</td>\n",
       "      <td>Hi there,\\n\\n\\n\\nNow this is probably of no us...</td>\n",
       "      <td>0</td>\n",
       "    </tr>\n",
       "  </tbody>\n",
       "</table>\n",
       "</div>"
      ],
      "text/plain": [
       "                                                                                  MESSAGE  \\\n",
       "01396.61983fbe6ec43f55fd44e30fce24ffa6  http://news.bbc.co.uk/1/hi/england/2515127.stm...   \n",
       "01397.9f9ef4c2a8dc012d80f2ce2d3473d3b7  > >-- be careful when using this one.) Also, t...   \n",
       "01398.169b51731fe569f42169ae8f948ec676  >>>>> \"SM\" == Skip Montanaro <skip@pobox.com> ...   \n",
       "01399.ca6b00b7b341bbde9a9ea3dd6a7bf896  So then, \"Mark Hammond\" <mhammond@skippinet.co...   \n",
       "01400.f897f0931e461e7b2e964d28e927c35e  Hi there,\\n\\n\\n\\nNow this is probably of no us...   \n",
       "\n",
       "                                        CATEGORY  \n",
       "01396.61983fbe6ec43f55fd44e30fce24ffa6         0  \n",
       "01397.9f9ef4c2a8dc012d80f2ce2d3473d3b7         0  \n",
       "01398.169b51731fe569f42169ae8f948ec676         0  \n",
       "01399.ca6b00b7b341bbde9a9ea3dd6a7bf896         0  \n",
       "01400.f897f0931e461e7b2e964d28e927c35e         0  "
      ]
     },
     "execution_count": 28,
     "metadata": {},
     "output_type": "execute_result"
    }
   ],
   "source": [
    "data.tail()"
   ]
  },
  {
   "cell_type": "markdown",
   "metadata": {},
   "source": [
    "## DATA CLEANING: CHECK FOR MISSING VALUES"
   ]
  },
  {
   "cell_type": "code",
   "execution_count": 31,
   "metadata": {},
   "outputs": [
    {
     "data": {
      "text/plain": [
       "False"
      ]
     },
     "execution_count": 31,
     "metadata": {},
     "output_type": "execute_result"
    }
   ],
   "source": [
    "#check if any message body is null\n",
    "data['MESSAGE'].isnull().values.any() #tells if any of the email is null "
   ]
  },
  {
   "cell_type": "code",
   "execution_count": 32,
   "metadata": {},
   "outputs": [
    {
     "data": {
      "text/plain": [
       "str"
      ]
     },
     "execution_count": 32,
     "metadata": {},
     "output_type": "execute_result"
    }
   ],
   "source": [
    "type('')"
   ]
  },
  {
   "cell_type": "code",
   "execution_count": 33,
   "metadata": {},
   "outputs": [
    {
     "data": {
      "text/plain": [
       "0"
      ]
     },
     "execution_count": 33,
     "metadata": {},
     "output_type": "execute_result"
    }
   ],
   "source": [
    "len('')"
   ]
  },
  {
   "cell_type": "code",
   "execution_count": 34,
   "metadata": {},
   "outputs": [],
   "source": [
    "my_var=None"
   ]
  },
  {
   "cell_type": "code",
   "execution_count": 35,
   "metadata": {},
   "outputs": [
    {
     "data": {
      "text/plain": [
       "True"
      ]
     },
     "execution_count": 35,
     "metadata": {},
     "output_type": "execute_result"
    }
   ],
   "source": [
    "#check if any of the emails are empty\n",
    "(data.MESSAGE.str.len()==0).any()"
   ]
  },
  {
   "cell_type": "code",
   "execution_count": 38,
   "metadata": {},
   "outputs": [
    {
     "data": {
      "text/plain": [
       "3"
      ]
     },
     "execution_count": 38,
     "metadata": {},
     "output_type": "execute_result"
    }
   ],
   "source": [
    "(data.MESSAGE.str.len()==0).sum() #HOW MANY OF THESE EMIALS ARE EMPTY"
   ]
  },
  {
   "cell_type": "markdown",
   "metadata": {},
   "source": [
    "# lOCATE EMPTY EMAILS"
   ]
  },
  {
   "cell_type": "code",
   "execution_count": 39,
   "metadata": {},
   "outputs": [
    {
     "data": {
      "text/plain": [
       "Index(['cmds', 'cmds', 'cmds'], dtype='object')"
      ]
     },
     "execution_count": 39,
     "metadata": {},
     "output_type": "execute_result"
    }
   ],
   "source": [
    "data[data.MESSAGE.str.len()==0].index"
   ]
  },
  {
   "cell_type": "code",
   "execution_count": 40,
   "metadata": {},
   "outputs": [
    {
     "data": {
      "text/plain": [
       "array([False, False, False, ..., False, False, False])"
      ]
     },
     "execution_count": 40,
     "metadata": {},
     "output_type": "execute_result"
    }
   ],
   "source": [
    "data.index.get_loc('cmds')"
   ]
  },
  {
   "cell_type": "markdown",
   "metadata": {},
   "source": [
    "# DROPPING UNDESIRED EMAILS"
   ]
  },
  {
   "cell_type": "code",
   "execution_count": 41,
   "metadata": {},
   "outputs": [],
   "source": [
    "data.drop(['cmds'],inplace=True)"
   ]
  },
  {
   "cell_type": "code",
   "execution_count": 42,
   "metadata": {},
   "outputs": [
    {
     "data": {
      "text/plain": [
       "(5796, 2)"
      ]
     },
     "execution_count": 42,
     "metadata": {},
     "output_type": "execute_result"
    }
   ],
   "source": [
    "data.shape"
   ]
  },
  {
   "cell_type": "markdown",
   "metadata": {},
   "source": [
    "# ADD DOC IDs TO track emails in Dataset"
   ]
  },
  {
   "cell_type": "code",
   "execution_count": 43,
   "metadata": {},
   "outputs": [],
   "source": [
    "doc_ids= range(0,len(data.index))\n",
    "data['DOC_ID']= doc_ids"
   ]
  },
  {
   "cell_type": "code",
   "execution_count": 44,
   "metadata": {},
   "outputs": [
    {
     "data": {
      "text/plain": [
       "00001.7848dde101aa985090474a91ec93fcf0       0\n",
       "00002.d94f1b97e48ed3b553b3508d116e6a09       1\n",
       "00003.2ee33bc6eacdb11f38d052c44819ba6c       2\n",
       "00004.eac8de8d759b7e74154f142194282724       3\n",
       "00005.57696a39d7d84318ce497886896bf90d       4\n",
       "                                          ... \n",
       "01396.61983fbe6ec43f55fd44e30fce24ffa6    5791\n",
       "01397.9f9ef4c2a8dc012d80f2ce2d3473d3b7    5792\n",
       "01398.169b51731fe569f42169ae8f948ec676    5793\n",
       "01399.ca6b00b7b341bbde9a9ea3dd6a7bf896    5794\n",
       "01400.f897f0931e461e7b2e964d28e927c35e    5795\n",
       "Name: DOC_ID, Length: 5796, dtype: int32"
      ]
     },
     "execution_count": 44,
     "metadata": {},
     "output_type": "execute_result"
    }
   ],
   "source": [
    "data.DOC_ID"
   ]
  },
  {
   "cell_type": "code",
   "execution_count": 174,
   "metadata": {},
   "outputs": [
    {
     "data": {
      "text/html": [
       "<div>\n",
       "<style scoped>\n",
       "    .dataframe tbody tr th:only-of-type {\n",
       "        vertical-align: middle;\n",
       "    }\n",
       "\n",
       "    .dataframe tbody tr th {\n",
       "        vertical-align: top;\n",
       "    }\n",
       "\n",
       "    .dataframe thead th {\n",
       "        text-align: right;\n",
       "    }\n",
       "</style>\n",
       "<table border=\"1\" class=\"dataframe\">\n",
       "  <thead>\n",
       "    <tr style=\"text-align: right;\">\n",
       "      <th></th>\n",
       "      <th>MESSAGE</th>\n",
       "      <th>CATEGORY</th>\n",
       "      <th>FILE_NAME</th>\n",
       "    </tr>\n",
       "    <tr>\n",
       "      <th>DOC_ID</th>\n",
       "      <th></th>\n",
       "      <th></th>\n",
       "      <th></th>\n",
       "    </tr>\n",
       "  </thead>\n",
       "  <tbody>\n",
       "    <tr>\n",
       "      <td>0</td>\n",
       "      <td>&lt;!DOCTYPE HTML PUBLIC \"-//W3C//DTD HTML 4.0 Tr...</td>\n",
       "      <td>1</td>\n",
       "      <td>00001.7848dde101aa985090474a91ec93fcf0</td>\n",
       "    </tr>\n",
       "    <tr>\n",
       "      <td>1</td>\n",
       "      <td>1) Fight The Risk of Cancer!\\n\\nhttp://www.adc...</td>\n",
       "      <td>1</td>\n",
       "      <td>00002.d94f1b97e48ed3b553b3508d116e6a09</td>\n",
       "    </tr>\n",
       "    <tr>\n",
       "      <td>2</td>\n",
       "      <td>1) Fight The Risk of Cancer!\\n\\nhttp://www.adc...</td>\n",
       "      <td>1</td>\n",
       "      <td>00003.2ee33bc6eacdb11f38d052c44819ba6c</td>\n",
       "    </tr>\n",
       "    <tr>\n",
       "      <td>3</td>\n",
       "      <td>##############################################...</td>\n",
       "      <td>1</td>\n",
       "      <td>00004.eac8de8d759b7e74154f142194282724</td>\n",
       "    </tr>\n",
       "    <tr>\n",
       "      <td>4</td>\n",
       "      <td>I thought you might like these:\\n\\n1) Slim Dow...</td>\n",
       "      <td>1</td>\n",
       "      <td>00005.57696a39d7d84318ce497886896bf90d</td>\n",
       "    </tr>\n",
       "  </tbody>\n",
       "</table>\n",
       "</div>"
      ],
      "text/plain": [
       "                                                  MESSAGE  CATEGORY  \\\n",
       "DOC_ID                                                                \n",
       "0       <!DOCTYPE HTML PUBLIC \"-//W3C//DTD HTML 4.0 Tr...         1   \n",
       "1       1) Fight The Risk of Cancer!\\n\\nhttp://www.adc...         1   \n",
       "2       1) Fight The Risk of Cancer!\\n\\nhttp://www.adc...         1   \n",
       "3       ##############################################...         1   \n",
       "4       I thought you might like these:\\n\\n1) Slim Dow...         1   \n",
       "\n",
       "                                     FILE_NAME  \n",
       "DOC_ID                                          \n",
       "0       00001.7848dde101aa985090474a91ec93fcf0  \n",
       "1       00002.d94f1b97e48ed3b553b3508d116e6a09  \n",
       "2       00003.2ee33bc6eacdb11f38d052c44819ba6c  \n",
       "3       00004.eac8de8d759b7e74154f142194282724  \n",
       "4       00005.57696a39d7d84318ce497886896bf90d  "
      ]
     },
     "execution_count": 174,
     "metadata": {},
     "output_type": "execute_result"
    }
   ],
   "source": [
    "data['FILE_NAME'] = data.index\n",
    "data.set_index('DOC_ID', inplace=True)\n",
    "data.head()"
   ]
  },
  {
   "cell_type": "code",
   "execution_count": 175,
   "metadata": {},
   "outputs": [
    {
     "data": {
      "text/html": [
       "<div>\n",
       "<style scoped>\n",
       "    .dataframe tbody tr th:only-of-type {\n",
       "        vertical-align: middle;\n",
       "    }\n",
       "\n",
       "    .dataframe tbody tr th {\n",
       "        vertical-align: top;\n",
       "    }\n",
       "\n",
       "    .dataframe thead th {\n",
       "        text-align: right;\n",
       "    }\n",
       "</style>\n",
       "<table border=\"1\" class=\"dataframe\">\n",
       "  <thead>\n",
       "    <tr style=\"text-align: right;\">\n",
       "      <th></th>\n",
       "      <th>MESSAGE</th>\n",
       "      <th>CATEGORY</th>\n",
       "      <th>FILE_NAME</th>\n",
       "    </tr>\n",
       "    <tr>\n",
       "      <th>DOC_ID</th>\n",
       "      <th></th>\n",
       "      <th></th>\n",
       "      <th></th>\n",
       "    </tr>\n",
       "  </thead>\n",
       "  <tbody>\n",
       "    <tr>\n",
       "      <td>5791</td>\n",
       "      <td>http://news.bbc.co.uk/1/hi/england/2515127.stm...</td>\n",
       "      <td>0</td>\n",
       "      <td>01396.61983fbe6ec43f55fd44e30fce24ffa6</td>\n",
       "    </tr>\n",
       "    <tr>\n",
       "      <td>5792</td>\n",
       "      <td>&gt; &gt;-- be careful when using this one.) Also, t...</td>\n",
       "      <td>0</td>\n",
       "      <td>01397.9f9ef4c2a8dc012d80f2ce2d3473d3b7</td>\n",
       "    </tr>\n",
       "    <tr>\n",
       "      <td>5793</td>\n",
       "      <td>&gt;&gt;&gt;&gt;&gt; \"SM\" == Skip Montanaro &lt;skip@pobox.com&gt; ...</td>\n",
       "      <td>0</td>\n",
       "      <td>01398.169b51731fe569f42169ae8f948ec676</td>\n",
       "    </tr>\n",
       "    <tr>\n",
       "      <td>5794</td>\n",
       "      <td>So then, \"Mark Hammond\" &lt;mhammond@skippinet.co...</td>\n",
       "      <td>0</td>\n",
       "      <td>01399.ca6b00b7b341bbde9a9ea3dd6a7bf896</td>\n",
       "    </tr>\n",
       "    <tr>\n",
       "      <td>5795</td>\n",
       "      <td>Hi there,\\n\\n\\n\\nNow this is probably of no us...</td>\n",
       "      <td>0</td>\n",
       "      <td>01400.f897f0931e461e7b2e964d28e927c35e</td>\n",
       "    </tr>\n",
       "  </tbody>\n",
       "</table>\n",
       "</div>"
      ],
      "text/plain": [
       "                                                  MESSAGE  CATEGORY  \\\n",
       "DOC_ID                                                                \n",
       "5791    http://news.bbc.co.uk/1/hi/england/2515127.stm...         0   \n",
       "5792    > >-- be careful when using this one.) Also, t...         0   \n",
       "5793    >>>>> \"SM\" == Skip Montanaro <skip@pobox.com> ...         0   \n",
       "5794    So then, \"Mark Hammond\" <mhammond@skippinet.co...         0   \n",
       "5795    Hi there,\\n\\n\\n\\nNow this is probably of no us...         0   \n",
       "\n",
       "                                     FILE_NAME  \n",
       "DOC_ID                                          \n",
       "5791    01396.61983fbe6ec43f55fd44e30fce24ffa6  \n",
       "5792    01397.9f9ef4c2a8dc012d80f2ce2d3473d3b7  \n",
       "5793    01398.169b51731fe569f42169ae8f948ec676  \n",
       "5794    01399.ca6b00b7b341bbde9a9ea3dd6a7bf896  \n",
       "5795    01400.f897f0931e461e7b2e964d28e927c35e  "
      ]
     },
     "execution_count": 175,
     "metadata": {},
     "output_type": "execute_result"
    }
   ],
   "source": [
    "data.tail()"
   ]
  },
  {
   "cell_type": "markdown",
   "metadata": {},
   "source": [
    "### save to FILE using Pandas"
   ]
  },
  {
   "cell_type": "code",
   "execution_count": 176,
   "metadata": {},
   "outputs": [],
   "source": [
    "data.to_json(DATA_JSON_FILE)"
   ]
  },
  {
   "cell_type": "markdown",
   "metadata": {},
   "source": [
    "### NUMBER of spam messages visualised (pie charts)"
   ]
  },
  {
   "cell_type": "code",
   "execution_count": 54,
   "metadata": {},
   "outputs": [
    {
     "data": {
      "text/plain": [
       "0    3900\n",
       "1    1896\n",
       "Name: CATEGORY, dtype: int64"
      ]
     },
     "execution_count": 54,
     "metadata": {},
     "output_type": "execute_result"
    }
   ],
   "source": [
    "data.CATEGORY.value_counts()"
   ]
  },
  {
   "cell_type": "code",
   "execution_count": 55,
   "metadata": {},
   "outputs": [],
   "source": [
    "amount_of_spam=data.CATEGORY.value_counts()[1]\n",
    "amount_of_ham=data.CATEGORY.value_counts()[0]"
   ]
  },
  {
   "cell_type": "code",
   "execution_count": 64,
   "metadata": {},
   "outputs": [
    {
     "data": {
      "image/png": "[encoded data removed]",
      "text/plain": [
       "<Figure size 454x454 with 1 Axes>"
      ]
     },
     "metadata": {},
     "output_type": "display_data"
    }
   ],
   "source": [
    "category_names=['spam' , 'Legit_Mail']\n",
    "sizes=[amount_of_spam,amount_of_ham]\n",
    "\n",
    "plt.figure(figsize=(2,2),dpi=227)\n",
    "plt.pie(sizes,labels=category_names,textprops={'fontsize': 7},autopct='%1.2f%%')\n",
    "plt.show()"
   ]
  },
  {
   "cell_type": "code",
   "execution_count": null,
   "metadata": {},
   "outputs": [],
   "source": []
  },
  {
   "cell_type": "code",
   "execution_count": 69,
   "metadata": {},
   "outputs": [
    {
     "data": {
      "image/png": "[encoded data removed]",
      "text/plain": [
       "<Figure size 454x454 with 1 Axes>"
      ]
     },
     "metadata": {},
     "output_type": "display_data"
    }
   ],
   "source": [
    "category_names=['spam' , 'Legit_Mail']\n",
    "sizes=[amount_of_spam,amount_of_ham]\n",
    "custom_colours=['#ff7675','#74b9ff']\n",
    "\n",
    "plt.figure(figsize=(2,2),dpi=227)\n",
    "plt.pie(sizes,labels=category_names,textprops={'fontsize': 7},autopct='%1.2f%%'\n",
    "       ,colors=custom_colours, explode=[0,0.1])\n",
    "plt.show()"
   ]
  },
  {
   "cell_type": "code",
   "execution_count": null,
   "metadata": {},
   "outputs": [],
   "source": []
  },
  {
   "cell_type": "code",
   "execution_count": 76,
   "metadata": {},
   "outputs": [
    {
     "data": {
      "image/png": "[encoded data removed]",
      "text/plain": [
       "<Figure size 454x454 with 1 Axes>"
      ]
     },
     "metadata": {},
     "output_type": "display_data"
    }
   ],
   "source": [
    "category_names=['spam' , 'Legit_Mail']\n",
    "sizes=[amount_of_spam,amount_of_ham]\n",
    "custom_colours=['#ff7675','#74b9ff']\n",
    "\n",
    "plt.figure(figsize=(2,2),dpi=227)\n",
    "plt.pie(sizes,labels=category_names,textprops={'fontsize': 6},autopct='%1.2f%%'\n",
    "       ,colors=custom_colours,pctdistance=0.8)\n",
    "\n",
    "#draw circle\n",
    "centre_circle=plt.Circle((0,0),radius=0.6,fc='white')\n",
    "plt.gca().add_artist(centre_circle)\n",
    "\n",
    "plt.show()"
   ]
  },
  {
   "cell_type": "markdown",
   "metadata": {},
   "source": [
    "# INTRODUCTION TO NATURAL LANGUAGE PROCESSING"
   ]
  },
  {
   "cell_type": "markdown",
   "metadata": {},
   "source": [
    "## Text Pre_Processing"
   ]
  },
  {
   "cell_type": "code",
   "execution_count": 78,
   "metadata": {},
   "outputs": [
    {
     "data": {
      "text/plain": [
       "'all work and no play makes jack a dull boy'"
      ]
     },
     "execution_count": 78,
     "metadata": {},
     "output_type": "execute_result"
    }
   ],
   "source": [
    "#convert to lower case\n",
    "msg='ALL work ANd no Play makes Jack a dull Boy'\n",
    "msg.lower()"
   ]
  },
  {
   "cell_type": "markdown",
   "metadata": {},
   "source": [
    "### DOWNLOAD NLTK"
   ]
  },
  {
   "cell_type": "code",
   "execution_count": 81,
   "metadata": {},
   "outputs": [
    {
     "name": "stderr",
     "output_type": "stream",
     "text": [
      "[nltk_data] Downloading package punkt to\n",
      "[nltk_data]     C:\\Users\\Hassan\\AppData\\Roaming\\nltk_data...\n",
      "[nltk_data]   Unzipping tokenizers\\punkt.zip.\n"
     ]
    },
    {
     "data": {
      "text/plain": [
       "True"
      ]
     },
     "execution_count": 81,
     "metadata": {},
     "output_type": "execute_result"
    }
   ],
   "source": [
    "nltk.download('punkt')"
   ]
  },
  {
   "cell_type": "code",
   "execution_count": 84,
   "metadata": {},
   "outputs": [
    {
     "name": "stderr",
     "output_type": "stream",
     "text": [
      "[nltk_data] Downloading package stopwords to\n",
      "[nltk_data]     C:\\Users\\Hassan\\AppData\\Roaming\\nltk_data...\n",
      "[nltk_data]   Unzipping corpora\\stopwords.zip.\n"
     ]
    },
    {
     "data": {
      "text/plain": [
       "True"
      ]
     },
     "execution_count": 84,
     "metadata": {},
     "output_type": "execute_result"
    }
   ],
   "source": [
    "nltk.download('stopwords')"
   ]
  },
  {
   "cell_type": "markdown",
   "metadata": {},
   "source": [
    "### TOKENISING"
   ]
  },
  {
   "cell_type": "code",
   "execution_count": 86,
   "metadata": {},
   "outputs": [
    {
     "data": {
      "text/plain": [
       "['all', 'work', 'and', 'no', 'play', 'makes', 'jack', 'a', 'dull', 'boy']"
      ]
     },
     "execution_count": 86,
     "metadata": {},
     "output_type": "execute_result"
    }
   ],
   "source": [
    "#splits up all the words in a list of strings\n",
    "msg='ALL work ANd no Play makes Jack a dull Boy'\n",
    "msg.lower()\n",
    "word_tokenize(msg.lower())"
   ]
  },
  {
   "cell_type": "markdown",
   "metadata": {},
   "source": [
    "### Removing stopwords"
   ]
  },
  {
   "cell_type": "code",
   "execution_count": 89,
   "metadata": {},
   "outputs": [],
   "source": [
    "stop_words=set(stopwords.words('english'))"
   ]
  },
  {
   "cell_type": "code",
   "execution_count": 90,
   "metadata": {},
   "outputs": [
    {
     "data": {
      "text/plain": [
       "set"
      ]
     },
     "execution_count": 90,
     "metadata": {},
     "output_type": "execute_result"
    }
   ],
   "source": [
    "type(stop_words)"
   ]
  },
  {
   "cell_type": "code",
   "execution_count": 91,
   "metadata": {},
   "outputs": [
    {
     "name": "stdout",
     "output_type": "stream",
     "text": [
      "yaayyyy found it!!\n"
     ]
    }
   ],
   "source": [
    "if 'this' in stop_words: print('yaayyyy found it!!')"
   ]
  },
  {
   "cell_type": "code",
   "execution_count": 93,
   "metadata": {},
   "outputs": [
    {
     "name": "stdout",
     "output_type": "stream",
     "text": [
      "Ooops, not here!!\n"
     ]
    }
   ],
   "source": [
    "if 'hello' not in stop_words: print('Ooops, not here!!')"
   ]
  },
  {
   "cell_type": "code",
   "execution_count": 96,
   "metadata": {},
   "outputs": [
    {
     "name": "stdout",
     "output_type": "stream",
     "text": [
      "['work', 'play', 'makes', 'jack', 'dull', 'boy', '.', '.']\n"
     ]
    }
   ],
   "source": [
    "msg='ALL work ANd no Play makes Jack a dull Boy. To be or not to be.'\n",
    "words=word_tokenize(msg.lower())\n",
    "\n",
    "filtered_words=[]\n",
    "for word in words:\n",
    "    if word not in stop_words:\n",
    "        filtered_words.append(word)\n",
    "        \n",
    "print(filtered_words)"
   ]
  },
  {
   "cell_type": "markdown",
   "metadata": {},
   "source": [
    "### word stems and stemming"
   ]
  },
  {
   "cell_type": "code",
   "execution_count": null,
   "metadata": {},
   "outputs": [],
   "source": []
  },
  {
   "cell_type": "code",
   "execution_count": 101,
   "metadata": {},
   "outputs": [
    {
     "name": "stdout",
     "output_type": "stream",
     "text": [
      "['work', 'play', 'make', 'jack', 'dull', 'boy', '.', '.', 'nobodi', 'expect', 'spanish', 'inquisit', '!']\n"
     ]
    }
   ],
   "source": [
    "msg='ALL work ANd no Play makes Jack a dull Boy. \\\n",
    "To be or not to be. Nobody expects the spanish Inquisition!'\n",
    "words=word_tokenize(msg.lower())\n",
    "stemmer=PorterStemmer()\n",
    "\n",
    "filtered_words=[]\n",
    "for word in words:\n",
    "    if word not in stop_words:\n",
    "        \n",
    "        stemmed_word= stemmer.stem(word)\n",
    "        filtered_words.append(stemmed_word)\n",
    "        \n",
    "print(filtered_words)"
   ]
  },
  {
   "cell_type": "markdown",
   "metadata": {},
   "source": [
    "### Removing Punctuations"
   ]
  },
  {
   "cell_type": "code",
   "execution_count": null,
   "metadata": {},
   "outputs": [],
   "source": []
  },
  {
   "cell_type": "code",
   "execution_count": 103,
   "metadata": {},
   "outputs": [
    {
     "name": "stdout",
     "output_type": "stream",
     "text": [
      "['work', 'play', 'make', 'jack', 'dull', 'boy', 'nobodi', 'expect', 'spanish', 'inquisit']\n"
     ]
    }
   ],
   "source": [
    "msg='ALL work ANd no Play makes Jack a dull Boy. \\\n",
    "To be or not to be??? Nobody expects the spanish Inquisition!'\n",
    "words=word_tokenize(msg.lower())\n",
    "stemmer=PorterStemmer()\n",
    "filtered_words=[]\n",
    "for word in words:\n",
    "    if word not in stop_words and word.isalpha():\n",
    "        \n",
    "        stemmed_word= stemmer.stem(word)\n",
    "        filtered_words.append(stemmed_word)\n",
    "        \n",
    "print(filtered_words)"
   ]
  },
  {
   "cell_type": "code",
   "execution_count": 104,
   "metadata": {},
   "outputs": [
    {
     "data": {
      "text/plain": [
       "True"
      ]
     },
     "execution_count": 104,
     "metadata": {},
     "output_type": "execute_result"
    }
   ],
   "source": [
    "'p'.isalpha() #checks whether the given word is a string or a punctuation"
   ]
  },
  {
   "cell_type": "markdown",
   "metadata": {},
   "source": [
    "###  Removing HTML Tags"
   ]
  },
  {
   "cell_type": "code",
   "execution_count": 117,
   "metadata": {},
   "outputs": [
    {
     "ename": "ValueError",
     "evalue": "At based indexing on an non-integer index can only have non-integer indexers",
     "output_type": "error",
     "traceback": [
      "\u001b[1;31m---------------------------------------------------------------------------\u001b[0m",
      "\u001b[1;31mValueError\u001b[0m                                Traceback (most recent call last)",
      "\u001b[1;32m<ipython-input-117-b73ee03b5a52>\u001b[0m in \u001b[0;36m<module>\u001b[1;34m\u001b[0m\n\u001b[0;32m      1\u001b[0m \u001b[0mPos\u001b[0m\u001b[1;33m=\u001b[0m\u001b[1;36m2\u001b[0m\u001b[1;33m\u001b[0m\u001b[1;33m\u001b[0m\u001b[0m\n\u001b[0;32m      2\u001b[0m \u001b[0mlabel\u001b[0m\u001b[1;33m=\u001b[0m\u001b[1;34m'MESSAGE'\u001b[0m\u001b[1;33m\u001b[0m\u001b[1;33m\u001b[0m\u001b[0m\n\u001b[1;32m----> 3\u001b[1;33m \u001b[0mdata\u001b[0m\u001b[1;33m.\u001b[0m\u001b[0mat\u001b[0m\u001b[1;33m[\u001b[0m\u001b[0mPos\u001b[0m\u001b[1;33m,\u001b[0m\u001b[0mlabel\u001b[0m\u001b[1;33m]\u001b[0m\u001b[1;33m\u001b[0m\u001b[1;33m\u001b[0m\u001b[0m\n\u001b[0m\u001b[0;32m      4\u001b[0m \u001b[0mtype\u001b[0m\u001b[1;33m(\u001b[0m\u001b[0mdata\u001b[0m\u001b[1;33m)\u001b[0m\u001b[1;33m\u001b[0m\u001b[1;33m\u001b[0m\u001b[0m\n\u001b[0;32m      5\u001b[0m \u001b[0msoup\u001b[0m\u001b[1;33m=\u001b[0m\u001b[0mBeautifulSoup\u001b[0m\u001b[1;33m(\u001b[0m\u001b[0mdata\u001b[0m\u001b[1;33m.\u001b[0m\u001b[0mat\u001b[0m\u001b[1;33m[\u001b[0m\u001b[1;36m2\u001b[0m\u001b[1;33m,\u001b[0m\u001b[1;34m'MESSAGE'\u001b[0m\u001b[1;33m]\u001b[0m\u001b[1;33m,\u001b[0m\u001b[1;34m'html.parser'\u001b[0m\u001b[1;33m)\u001b[0m\u001b[1;33m\u001b[0m\u001b[1;33m\u001b[0m\u001b[0m\n",
      "\u001b[1;32m~\\Anaconda3\\lib\\site-packages\\pandas\\core\\indexing.py\u001b[0m in \u001b[0;36m__getitem__\u001b[1;34m(self, key)\u001b[0m\n\u001b[0;32m   2197\u001b[0m                 \u001b[1;32mraise\u001b[0m \u001b[0mValueError\u001b[0m\u001b[1;33m(\u001b[0m\u001b[1;34m\"Invalid call for scalar access (getting)!\"\u001b[0m\u001b[1;33m)\u001b[0m\u001b[1;33m\u001b[0m\u001b[1;33m\u001b[0m\u001b[0m\n\u001b[0;32m   2198\u001b[0m \u001b[1;33m\u001b[0m\u001b[0m\n\u001b[1;32m-> 2199\u001b[1;33m         \u001b[0mkey\u001b[0m \u001b[1;33m=\u001b[0m \u001b[0mself\u001b[0m\u001b[1;33m.\u001b[0m\u001b[0m_convert_key\u001b[0m\u001b[1;33m(\u001b[0m\u001b[0mkey\u001b[0m\u001b[1;33m)\u001b[0m\u001b[1;33m\u001b[0m\u001b[1;33m\u001b[0m\u001b[0m\n\u001b[0m\u001b[0;32m   2200\u001b[0m         \u001b[1;32mreturn\u001b[0m \u001b[0mself\u001b[0m\u001b[1;33m.\u001b[0m\u001b[0mobj\u001b[0m\u001b[1;33m.\u001b[0m\u001b[0m_get_value\u001b[0m\u001b[1;33m(\u001b[0m\u001b[1;33m*\u001b[0m\u001b[0mkey\u001b[0m\u001b[1;33m,\u001b[0m \u001b[0mtakeable\u001b[0m\u001b[1;33m=\u001b[0m\u001b[0mself\u001b[0m\u001b[1;33m.\u001b[0m\u001b[0m_takeable\u001b[0m\u001b[1;33m)\u001b[0m\u001b[1;33m\u001b[0m\u001b[1;33m\u001b[0m\u001b[0m\n\u001b[0;32m   2201\u001b[0m \u001b[1;33m\u001b[0m\u001b[0m\n",
      "\u001b[1;32m~\\Anaconda3\\lib\\site-packages\\pandas\\core\\indexing.py\u001b[0m in \u001b[0;36m_convert_key\u001b[1;34m(self, key, is_setter)\u001b[0m\n\u001b[0;32m   2284\u001b[0m                 \u001b[1;32mif\u001b[0m \u001b[0mis_integer\u001b[0m\u001b[1;33m(\u001b[0m\u001b[0mi\u001b[0m\u001b[1;33m)\u001b[0m \u001b[1;32mand\u001b[0m \u001b[1;32mnot\u001b[0m \u001b[0max\u001b[0m\u001b[1;33m.\u001b[0m\u001b[0mholds_integer\u001b[0m\u001b[1;33m(\u001b[0m\u001b[1;33m)\u001b[0m\u001b[1;33m:\u001b[0m\u001b[1;33m\u001b[0m\u001b[1;33m\u001b[0m\u001b[0m\n\u001b[0;32m   2285\u001b[0m                     raise ValueError(\n\u001b[1;32m-> 2286\u001b[1;33m                         \u001b[1;34m\"At based indexing on an non-integer \"\u001b[0m\u001b[1;33m\u001b[0m\u001b[1;33m\u001b[0m\u001b[0m\n\u001b[0m\u001b[0;32m   2287\u001b[0m                         \u001b[1;34m\"index can only have non-integer \"\u001b[0m\u001b[1;33m\u001b[0m\u001b[1;33m\u001b[0m\u001b[0m\n\u001b[0;32m   2288\u001b[0m                         \u001b[1;34m\"indexers\"\u001b[0m\u001b[1;33m\u001b[0m\u001b[1;33m\u001b[0m\u001b[0m\n",
      "\u001b[1;31mValueError\u001b[0m: At based indexing on an non-integer index can only have non-integer indexers"
     ]
    }
   ],
   "source": [
    "Pos=2\n",
    "label='MESSAGE'\n",
    "data.at[Pos,label]\n",
    "type(data)\n",
    "soup=BeautifulSoup(data.at[2,'MESSAGE'],'html.parser')"
   ]
  },
  {
   "cell_type": "markdown",
   "metadata": {},
   "source": [
    "## Functions for Email Processing "
   ]
  },
  {
   "cell_type": "code",
   "execution_count": 155,
   "metadata": {},
   "outputs": [],
   "source": [
    "def clean_message(message, stemmer=PorterStemmer(), \n",
    "                 stop_words=set(stopwords.words('english'))):\n",
    "    \n",
    "    # Converts to Lower Case and splits up the words\n",
    "    words = word_tokenize(message.lower())\n",
    "    \n",
    "    filtered_words = []\n",
    "    \n",
    "    for word in words:\n",
    "        # Removes the stop words and punctuation\n",
    "        if word not in stop_words and word.isalpha():\n",
    "            filtered_words.append(stemmer.stem(word))\n",
    "    \n",
    "    return filtered_words"
   ]
  },
  {
   "cell_type": "code",
   "execution_count": 156,
   "metadata": {},
   "outputs": [
    {
     "data": {
      "text/plain": [
       "['dear',\n",
       " 'mr',\n",
       " 'still',\n",
       " 'good',\n",
       " 'tide',\n",
       " 'staff',\n",
       " 'festiv',\n",
       " 'season',\n",
       " 'ahead',\n",
       " 'christma',\n",
       " 'crux',\n",
       " 'fulli',\n",
       " 'qualifi',\n",
       " 'santa',\n",
       " 'clau',\n",
       " 'wonder',\n",
       " 'whether',\n",
       " 'might',\n",
       " 'consid',\n",
       " 'run',\n",
       " 'santa',\n",
       " 'grotto',\n",
       " 'store',\n",
       " 'wait',\n",
       " 'probabl',\n",
       " 'think',\n",
       " 'make',\n",
       " 'special',\n",
       " 'well',\n",
       " 'first',\n",
       " 'made',\n",
       " 'sever',\n",
       " 'chang',\n",
       " 'characteris',\n",
       " 'father',\n",
       " 'christma',\n",
       " 'rather',\n",
       " 'greet',\n",
       " 'children',\n",
       " 'shout',\n",
       " 'ho',\n",
       " 'ho',\n",
       " 'ho',\n",
       " 'prefer',\n",
       " 'whisper',\n",
       " 'phrase',\n",
       " 'depend',\n",
       " 'unfathom',\n",
       " 'cruel',\n",
       " 'world',\n",
       " 'live',\n",
       " 'addit',\n",
       " 'gift',\n",
       " 'rang',\n",
       " 'felt',\n",
       " 'hoop',\n",
       " 'holder',\n",
       " 'note',\n",
       " 'also',\n",
       " 'enclos',\n",
       " 'sketch',\n",
       " 'radic',\n",
       " 'redesign',\n",
       " 'santa',\n",
       " 'outfit',\n",
       " 'renam',\n",
       " 'charact',\n",
       " 'lord',\n",
       " 'buckl',\n",
       " 'would',\n",
       " 'interest',\n",
       " 'employ',\n",
       " 'promis',\n",
       " 'never',\n",
       " 'let',\n",
       " 'look',\n",
       " 'forward',\n",
       " 'hear',\n",
       " 'best',\n",
       " 'wish',\n",
       " 'robin',\n",
       " 'cooper',\n",
       " 'excerpt',\n",
       " 'book',\n",
       " 'timewast',\n",
       " 'letter',\n",
       " 'robin',\n",
       " 'cooper']"
      ]
     },
     "execution_count": 156,
     "metadata": {},
     "output_type": "execute_result"
    }
   ],
   "source": [
    "clean_message(email_body)"
   ]
  },
  {
   "cell_type": "code",
   "execution_count": null,
   "metadata": {},
   "outputs": [],
   "source": []
  },
  {
   "cell_type": "code",
   "execution_count": 157,
   "metadata": {},
   "outputs": [],
   "source": [
    "#also remove HTML tags\n",
    "def clean_msg_no_html(message, stemmer=PorterStemmer(), \n",
    "                 stop_words=set(stopwords.words('english'))):\n",
    "    \n",
    "    # Remove HTML tags\n",
    "    soup = BeautifulSoup(message, 'html.parser')\n",
    "    cleaned_text = soup.get_text()\n",
    "    \n",
    "    # Converts to Lower Case and splits up the words\n",
    "    words = word_tokenize(cleaned_text.lower())\n",
    "    \n",
    "    filtered_words = []\n",
    "    \n",
    "    for word in words:\n",
    "        # Removes the stop words and punctuation\n",
    "        if word not in stop_words and word.isalpha():\n",
    "            filtered_words.append(stemmer.stem(word))\n",
    "            #filtered_words.append(word) \n",
    "    \n",
    "    return filtered_words"
   ]
  },
  {
   "cell_type": "code",
   "execution_count": 164,
   "metadata": {},
   "outputs": [
    {
     "ename": "ValueError",
     "evalue": "At based indexing on an non-integer index can only have non-integer indexers",
     "output_type": "error",
     "traceback": [
      "\u001b[1;31m---------------------------------------------------------------------------\u001b[0m",
      "\u001b[1;31mValueError\u001b[0m                                Traceback (most recent call last)",
      "\u001b[1;32m<ipython-input-164-04f09429c843>\u001b[0m in \u001b[0;36m<module>\u001b[1;34m\u001b[0m\n\u001b[1;32m----> 1\u001b[1;33m \u001b[0mclean_msg_no_html\u001b[0m\u001b[1;33m(\u001b[0m\u001b[0mdata\u001b[0m\u001b[1;33m.\u001b[0m\u001b[0mat\u001b[0m\u001b[1;33m[\u001b[0m\u001b[1;36m2\u001b[0m\u001b[1;33m,\u001b[0m \u001b[1;34m'MESSAGE'\u001b[0m\u001b[1;33m]\u001b[0m\u001b[1;33m)\u001b[0m\u001b[1;33m\u001b[0m\u001b[1;33m\u001b[0m\u001b[0m\n\u001b[0m",
      "\u001b[1;32m~\\Anaconda3\\lib\\site-packages\\pandas\\core\\indexing.py\u001b[0m in \u001b[0;36m__getitem__\u001b[1;34m(self, key)\u001b[0m\n\u001b[0;32m   2197\u001b[0m                 \u001b[1;32mraise\u001b[0m \u001b[0mValueError\u001b[0m\u001b[1;33m(\u001b[0m\u001b[1;34m\"Invalid call for scalar access (getting)!\"\u001b[0m\u001b[1;33m)\u001b[0m\u001b[1;33m\u001b[0m\u001b[1;33m\u001b[0m\u001b[0m\n\u001b[0;32m   2198\u001b[0m \u001b[1;33m\u001b[0m\u001b[0m\n\u001b[1;32m-> 2199\u001b[1;33m         \u001b[0mkey\u001b[0m \u001b[1;33m=\u001b[0m \u001b[0mself\u001b[0m\u001b[1;33m.\u001b[0m\u001b[0m_convert_key\u001b[0m\u001b[1;33m(\u001b[0m\u001b[0mkey\u001b[0m\u001b[1;33m)\u001b[0m\u001b[1;33m\u001b[0m\u001b[1;33m\u001b[0m\u001b[0m\n\u001b[0m\u001b[0;32m   2200\u001b[0m         \u001b[1;32mreturn\u001b[0m \u001b[0mself\u001b[0m\u001b[1;33m.\u001b[0m\u001b[0mobj\u001b[0m\u001b[1;33m.\u001b[0m\u001b[0m_get_value\u001b[0m\u001b[1;33m(\u001b[0m\u001b[1;33m*\u001b[0m\u001b[0mkey\u001b[0m\u001b[1;33m,\u001b[0m \u001b[0mtakeable\u001b[0m\u001b[1;33m=\u001b[0m\u001b[0mself\u001b[0m\u001b[1;33m.\u001b[0m\u001b[0m_takeable\u001b[0m\u001b[1;33m)\u001b[0m\u001b[1;33m\u001b[0m\u001b[1;33m\u001b[0m\u001b[0m\n\u001b[0;32m   2201\u001b[0m \u001b[1;33m\u001b[0m\u001b[0m\n",
      "\u001b[1;32m~\\Anaconda3\\lib\\site-packages\\pandas\\core\\indexing.py\u001b[0m in \u001b[0;36m_convert_key\u001b[1;34m(self, key, is_setter)\u001b[0m\n\u001b[0;32m   2284\u001b[0m                 \u001b[1;32mif\u001b[0m \u001b[0mis_integer\u001b[0m\u001b[1;33m(\u001b[0m\u001b[0mi\u001b[0m\u001b[1;33m)\u001b[0m \u001b[1;32mand\u001b[0m \u001b[1;32mnot\u001b[0m \u001b[0max\u001b[0m\u001b[1;33m.\u001b[0m\u001b[0mholds_integer\u001b[0m\u001b[1;33m(\u001b[0m\u001b[1;33m)\u001b[0m\u001b[1;33m:\u001b[0m\u001b[1;33m\u001b[0m\u001b[1;33m\u001b[0m\u001b[0m\n\u001b[0;32m   2285\u001b[0m                     raise ValueError(\n\u001b[1;32m-> 2286\u001b[1;33m                         \u001b[1;34m\"At based indexing on an non-integer \"\u001b[0m\u001b[1;33m\u001b[0m\u001b[1;33m\u001b[0m\u001b[0m\n\u001b[0m\u001b[0;32m   2287\u001b[0m                         \u001b[1;34m\"index can only have non-integer \"\u001b[0m\u001b[1;33m\u001b[0m\u001b[1;33m\u001b[0m\u001b[0m\n\u001b[0;32m   2288\u001b[0m                         \u001b[1;34m\"indexers\"\u001b[0m\u001b[1;33m\u001b[0m\u001b[1;33m\u001b[0m\u001b[0m\n",
      "\u001b[1;31mValueError\u001b[0m: At based indexing on an non-integer index can only have non-integer indexers"
     ]
    }
   ],
   "source": [
    "clean_msg_no_html(data.at[2, 'MESSAGE'])"
   ]
  },
  {
   "cell_type": "markdown",
   "metadata": {},
   "source": [
    "# Apply cleaning and tokenisation to all emails"
   ]
  },
  {
   "cell_type": "markdown",
   "metadata": {},
   "source": [
    "### SLICING DataFrames and Series & Creating Subsets"
   ]
  },
  {
   "cell_type": "code",
   "execution_count": 178,
   "metadata": {},
   "outputs": [
    {
     "data": {
      "text/plain": [
       "1"
      ]
     },
     "execution_count": 178,
     "metadata": {},
     "output_type": "execute_result"
    }
   ],
   "source": [
    "data.iat[2,1]"
   ]
  },
  {
   "cell_type": "code",
   "execution_count": 179,
   "metadata": {},
   "outputs": [
    {
     "data": {
      "text/html": [
       "<div>\n",
       "<style scoped>\n",
       "    .dataframe tbody tr th:only-of-type {\n",
       "        vertical-align: middle;\n",
       "    }\n",
       "\n",
       "    .dataframe tbody tr th {\n",
       "        vertical-align: top;\n",
       "    }\n",
       "\n",
       "    .dataframe thead th {\n",
       "        text-align: right;\n",
       "    }\n",
       "</style>\n",
       "<table border=\"1\" class=\"dataframe\">\n",
       "  <thead>\n",
       "    <tr style=\"text-align: right;\">\n",
       "      <th></th>\n",
       "      <th>MESSAGE</th>\n",
       "      <th>CATEGORY</th>\n",
       "      <th>FILE_NAME</th>\n",
       "    </tr>\n",
       "    <tr>\n",
       "      <th>DOC_ID</th>\n",
       "      <th></th>\n",
       "      <th></th>\n",
       "      <th></th>\n",
       "    </tr>\n",
       "  </thead>\n",
       "  <tbody>\n",
       "    <tr>\n",
       "      <td>0</td>\n",
       "      <td>&lt;!DOCTYPE HTML PUBLIC \"-//W3C//DTD HTML 4.0 Tr...</td>\n",
       "      <td>1</td>\n",
       "      <td>00001.7848dde101aa985090474a91ec93fcf0</td>\n",
       "    </tr>\n",
       "    <tr>\n",
       "      <td>1</td>\n",
       "      <td>1) Fight The Risk of Cancer!\\n\\nhttp://www.adc...</td>\n",
       "      <td>1</td>\n",
       "      <td>00002.d94f1b97e48ed3b553b3508d116e6a09</td>\n",
       "    </tr>\n",
       "    <tr>\n",
       "      <td>2</td>\n",
       "      <td>1) Fight The Risk of Cancer!\\n\\nhttp://www.adc...</td>\n",
       "      <td>1</td>\n",
       "      <td>00003.2ee33bc6eacdb11f38d052c44819ba6c</td>\n",
       "    </tr>\n",
       "    <tr>\n",
       "      <td>3</td>\n",
       "      <td>##############################################...</td>\n",
       "      <td>1</td>\n",
       "      <td>00004.eac8de8d759b7e74154f142194282724</td>\n",
       "    </tr>\n",
       "    <tr>\n",
       "      <td>4</td>\n",
       "      <td>I thought you might like these:\\n\\n1) Slim Dow...</td>\n",
       "      <td>1</td>\n",
       "      <td>00005.57696a39d7d84318ce497886896bf90d</td>\n",
       "    </tr>\n",
       "  </tbody>\n",
       "</table>\n",
       "</div>"
      ],
      "text/plain": [
       "                                                  MESSAGE  CATEGORY  \\\n",
       "DOC_ID                                                                \n",
       "0       <!DOCTYPE HTML PUBLIC \"-//W3C//DTD HTML 4.0 Tr...         1   \n",
       "1       1) Fight The Risk of Cancer!\\n\\nhttp://www.adc...         1   \n",
       "2       1) Fight The Risk of Cancer!\\n\\nhttp://www.adc...         1   \n",
       "3       ##############################################...         1   \n",
       "4       I thought you might like these:\\n\\n1) Slim Dow...         1   \n",
       "\n",
       "                                     FILE_NAME  \n",
       "DOC_ID                                          \n",
       "0       00001.7848dde101aa985090474a91ec93fcf0  \n",
       "1       00002.d94f1b97e48ed3b553b3508d116e6a09  \n",
       "2       00003.2ee33bc6eacdb11f38d052c44819ba6c  \n",
       "3       00004.eac8de8d759b7e74154f142194282724  \n",
       "4       00005.57696a39d7d84318ce497886896bf90d  "
      ]
     },
     "execution_count": 179,
     "metadata": {},
     "output_type": "execute_result"
    }
   ],
   "source": [
    "data.iloc[0:5]"
   ]
  },
  {
   "cell_type": "code",
   "execution_count": 180,
   "metadata": {},
   "outputs": [],
   "source": [
    "first_emails=data.MESSAGE.iloc[0:3]\n",
    "#data.MESSAGE.iloc[0:3]\n",
    "nested_list=first_emails.apply(clean_message)"
   ]
  },
  {
   "cell_type": "code",
   "execution_count": 181,
   "metadata": {},
   "outputs": [
    {
     "data": {
      "text/plain": [
       "321"
      ]
     },
     "execution_count": 181,
     "metadata": {},
     "output_type": "execute_result"
    }
   ],
   "source": [
    "flat_list=[]\n",
    "for sublist in nested_list:\n",
    "    for item in sublist:\n",
    "        flat_list.append(item)\n",
    "        \n",
    "        \n",
    "len(flat_list)"
   ]
  },
  {
   "cell_type": "code",
   "execution_count": 182,
   "metadata": {},
   "outputs": [
    {
     "data": {
      "text/plain": [
       "['doctyp',\n",
       " 'html',\n",
       " 'public',\n",
       " 'html',\n",
       " 'html',\n",
       " 'head',\n",
       " 'meta',\n",
       " 'ype',\n",
       " 'meta',\n",
       " 'mshtml',\n",
       " 'bodi',\n",
       " 'insert',\n",
       " 'calypso',\n",
       " 'tabl',\n",
       " 'color',\n",
       " 'black',\n",
       " 'display',\n",
       " 'none',\n",
       " 'tbodi',\n",
       " 'tr',\n",
       " 'td',\n",
       " 'hr',\n",
       " 'noshad',\n",
       " 'tr',\n",
       " 'td',\n",
       " 'hr',\n",
       " 'noshad',\n",
       " 'end',\n",
       " 'calypso',\n",
       " 'insert',\n",
       " 'font',\n",
       " 'arial',\n",
       " 'helvetica',\n",
       " 'br',\n",
       " 'end',\n",
       " 'calypso',\n",
       " 'font',\n",
       " 'copperpl',\n",
       " 'gothic',\n",
       " 'bold',\n",
       " 'center',\n",
       " 'save',\n",
       " 'life',\n",
       " 'font',\n",
       " 'copperpl',\n",
       " 'gothic',\n",
       " 'bold',\n",
       " 'center',\n",
       " 'spend',\n",
       " 'center',\n",
       " 'font',\n",
       " 'copperpl',\n",
       " 'gothic',\n",
       " 'bold',\n",
       " 'center',\n",
       " 'life',\n",
       " 'quot',\n",
       " 'save',\n",
       " 'center',\n",
       " 'p',\n",
       " 'p',\n",
       " 'br',\n",
       " 'p',\n",
       " 'center',\n",
       " 'tabl',\n",
       " 'tbodi',\n",
       " 'tabl',\n",
       " 'tbodi',\n",
       " 'tr',\n",
       " 'td',\n",
       " 'b',\n",
       " 'font',\n",
       " 'g',\n",
       " 'famili',\n",
       " 'financi',\n",
       " 'secur',\n",
       " 'import',\n",
       " 'life',\n",
       " 'quot',\n",
       " 'save',\n",
       " 'ke',\n",
       " 'buy',\n",
       " 'life',\n",
       " 'insur',\n",
       " 'simpl',\n",
       " 'afford',\n",
       " 'provid',\n",
       " 'free',\n",
       " 'access',\n",
       " 'best',\n",
       " 'compani',\n",
       " 'lowest',\n",
       " 'tr',\n",
       " 'td',\n",
       " 'tabl',\n",
       " 'tbodi',\n",
       " 'tr',\n",
       " 'td',\n",
       " 'font',\n",
       " 'b',\n",
       " 'life',\n",
       " 'quot',\n",
       " 'save',\n",
       " 'fast',\n",
       " 'save',\n",
       " 'money',\n",
       " 'let',\n",
       " 'us',\n",
       " 'help',\n",
       " 'get',\n",
       " 'start',\n",
       " 'best',\n",
       " 'ue',\n",
       " 'countri',\n",
       " 'new',\n",
       " 'coverag',\n",
       " 'save',\n",
       " 'hundr',\n",
       " 'even',\n",
       " 'usand',\n",
       " 'dollar',\n",
       " 'request',\n",
       " 'free',\n",
       " 'quot',\n",
       " 'lifequot',\n",
       " 'save',\n",
       " 'servic',\n",
       " 'take',\n",
       " 'less',\n",
       " 'minut',\n",
       " 'complet',\n",
       " 'shop',\n",
       " 'compar',\n",
       " 'save',\n",
       " 'type',\n",
       " 'life',\n",
       " 'insur',\n",
       " 'tr',\n",
       " 'br',\n",
       " 'br',\n",
       " 'td',\n",
       " 'p',\n",
       " 'b',\n",
       " 'font',\n",
       " 'http',\n",
       " 'click',\n",
       " 'free',\n",
       " 'quot',\n",
       " 'p',\n",
       " 'font',\n",
       " 'strong',\n",
       " 'center',\n",
       " 'protect',\n",
       " 'famili',\n",
       " 'best',\n",
       " 'invest',\n",
       " 'r',\n",
       " 'make',\n",
       " 'br',\n",
       " 'tr',\n",
       " 'br',\n",
       " 'br',\n",
       " 'tr',\n",
       " 'p',\n",
       " 'font',\n",
       " 'arial',\n",
       " 'helvetica',\n",
       " 'p',\n",
       " 'center',\n",
       " 'br',\n",
       " 'br',\n",
       " 'br',\n",
       " 'p',\n",
       " 'p',\n",
       " 'br',\n",
       " 'br',\n",
       " 'br',\n",
       " 'br',\n",
       " 'br',\n",
       " 'p',\n",
       " 'br',\n",
       " 'p',\n",
       " 'br',\n",
       " 'br',\n",
       " 'br',\n",
       " 'receipt',\n",
       " 'email',\n",
       " 'error',\n",
       " 'wish',\n",
       " 'remov',\n",
       " 'list',\n",
       " 'mailto',\n",
       " 'coin',\n",
       " 'pleas',\n",
       " 'click',\n",
       " 'type',\n",
       " 'remov',\n",
       " 'resid',\n",
       " 'state',\n",
       " 'prohibit',\n",
       " 'solicit',\n",
       " 'ce',\n",
       " 'pleas',\n",
       " 'disregard',\n",
       " 'br',\n",
       " 'br',\n",
       " 'br',\n",
       " 'br',\n",
       " 'br',\n",
       " 'br',\n",
       " 'br',\n",
       " 'br',\n",
       " 'br',\n",
       " 'br',\n",
       " 'br',\n",
       " 'br',\n",
       " 'br',\n",
       " 'br',\n",
       " 'br',\n",
       " 'br',\n",
       " 'center',\n",
       " 'fight',\n",
       " 'risk',\n",
       " 'cancer',\n",
       " 'http',\n",
       " 'slim',\n",
       " 'guarante',\n",
       " 'lose',\n",
       " 'lb',\n",
       " 'day',\n",
       " 'http',\n",
       " 'get',\n",
       " 'child',\n",
       " 'support',\n",
       " 'deserv',\n",
       " 'free',\n",
       " 'legal',\n",
       " 'advic',\n",
       " 'http',\n",
       " 'join',\n",
       " 'web',\n",
       " 'fastest',\n",
       " 'grow',\n",
       " 'singl',\n",
       " 'commun',\n",
       " 'http',\n",
       " 'start',\n",
       " 'privat',\n",
       " 'photo',\n",
       " 'album',\n",
       " 'onlin',\n",
       " 'http',\n",
       " 'wonder',\n",
       " 'day',\n",
       " 'offer',\n",
       " 'manag',\n",
       " 'prizemama',\n",
       " 'wish',\n",
       " 'leav',\n",
       " 'list',\n",
       " 'pleas',\n",
       " 'use',\n",
       " 'link',\n",
       " 'http',\n",
       " 'ilug',\n",
       " 'irish',\n",
       " 'linux',\n",
       " 'user',\n",
       " 'group',\n",
       " 'ilug',\n",
       " 'http',\n",
       " 'un',\n",
       " 'subscript',\n",
       " 'inform',\n",
       " 'list',\n",
       " 'maintain',\n",
       " 'listmast',\n",
       " 'fight',\n",
       " 'risk',\n",
       " 'cancer',\n",
       " 'http',\n",
       " 'slim',\n",
       " 'guarante',\n",
       " 'lose',\n",
       " 'lb',\n",
       " 'day',\n",
       " 'http',\n",
       " 'get',\n",
       " 'child',\n",
       " 'support',\n",
       " 'deserv',\n",
       " 'free',\n",
       " 'legal',\n",
       " 'advic',\n",
       " 'http',\n",
       " 'join',\n",
       " 'web',\n",
       " 'fastest',\n",
       " 'grow',\n",
       " 'singl',\n",
       " 'commun',\n",
       " 'http',\n",
       " 'start',\n",
       " 'privat',\n",
       " 'photo',\n",
       " 'album',\n",
       " 'onlin',\n",
       " 'http',\n",
       " 'wonder',\n",
       " 'day',\n",
       " 'offer',\n",
       " 'manag',\n",
       " 'prizemama',\n",
       " 'wish',\n",
       " 'leav',\n",
       " 'list',\n",
       " 'pleas',\n",
       " 'use',\n",
       " 'link',\n",
       " 'http',\n",
       " 'zzzz']"
      ]
     },
     "execution_count": 182,
     "metadata": {},
     "output_type": "execute_result"
    }
   ],
   "source": [
    "flat_list"
   ]
  },
  {
   "cell_type": "code",
   "execution_count": 183,
   "metadata": {},
   "outputs": [],
   "source": [
    "nested_list= data.MESSAGE.apply(clean_msg_no_html)"
   ]
  },
  {
   "cell_type": "code",
   "execution_count": 184,
   "metadata": {},
   "outputs": [
    {
     "data": {
      "text/plain": [
       "DOC_ID\n",
       "0    [save, life, insur, spend, life, quot, save, g...\n",
       "1    [fight, risk, cancer, http, slim, guarante, lo...\n",
       "2    [fight, risk, cancer, http, slim, guarante, lo...\n",
       "3    [adult, club, offer, free, membership, instant...\n",
       "4    [thought, might, like, slim, guarante, lose, l...\n",
       "Name: MESSAGE, dtype: object"
      ]
     },
     "execution_count": 184,
     "metadata": {},
     "output_type": "execute_result"
    }
   ],
   "source": [
    "nested_list.head()"
   ]
  },
  {
   "cell_type": "code",
   "execution_count": 185,
   "metadata": {},
   "outputs": [
    {
     "data": {
      "text/plain": [
       "DOC_ID\n",
       "5791    [http, bizarr, collect, stuf, anim, could, fet...\n",
       "5792    [care, use, one, also, realli, cute, thing, ja...\n",
       "5793    [sm, skip, montanaro, write, jeremi, put, anot...\n",
       "5794    [mark, hammond, like, given, zodb, sound, attr...\n",
       "5795    [hi, probabl, use, whatsoev, also, problem, re...\n",
       "Name: MESSAGE, dtype: object"
      ]
     },
     "execution_count": 185,
     "metadata": {},
     "output_type": "execute_result"
    }
   ],
   "source": [
    "nested_list.tail()"
   ]
  },
  {
   "cell_type": "markdown",
   "metadata": {},
   "source": [
    "## Using Logic to Slice DATAFRAMES"
   ]
  },
  {
   "cell_type": "code",
   "execution_count": 186,
   "metadata": {},
   "outputs": [
    {
     "data": {
      "text/plain": [
       "(1896, 3)"
      ]
     },
     "execution_count": 186,
     "metadata": {},
     "output_type": "execute_result"
    }
   ],
   "source": [
    "data[data.CATEGORY==1].shape"
   ]
  },
  {
   "cell_type": "code",
   "execution_count": 187,
   "metadata": {},
   "outputs": [],
   "source": [
    "doc_ids_ham= data[data.CATEGORY==0].index\n",
    "doc_ids_spam= data[data.CATEGORY==1].index"
   ]
  },
  {
   "cell_type": "code",
   "execution_count": 188,
   "metadata": {},
   "outputs": [
    {
     "data": {
      "text/plain": [
       "Int64Index([   0,    1,    2,    3,    4,    5,    6,    7,    8,    9,\n",
       "            ...\n",
       "            1886, 1887, 1888, 1889, 1890, 1891, 1892, 1893, 1894, 1895],\n",
       "           dtype='int64', name='DOC_ID', length=1896)"
      ]
     },
     "execution_count": 188,
     "metadata": {},
     "output_type": "execute_result"
    }
   ],
   "source": [
    "doc_ids_spam"
   ]
  },
  {
   "cell_type": "code",
   "execution_count": 189,
   "metadata": {},
   "outputs": [
    {
     "data": {
      "text/plain": [
       "Int64Index([1896, 1897, 1898, 1899, 1900, 1901, 1902, 1903, 1904, 1905,\n",
       "            ...\n",
       "            5786, 5787, 5788, 5789, 5790, 5791, 5792, 5793, 5794, 5795],\n",
       "           dtype='int64', name='DOC_ID', length=3900)"
      ]
     },
     "execution_count": 189,
     "metadata": {},
     "output_type": "execute_result"
    }
   ],
   "source": [
    "doc_ids_ham"
   ]
  },
  {
   "cell_type": "markdown",
   "metadata": {},
   "source": [
    "### Subsetting a Series with an Index"
   ]
  },
  {
   "cell_type": "code",
   "execution_count": 190,
   "metadata": {},
   "outputs": [],
   "source": [
    "nested_list_ham= nested_list.loc[doc_ids_ham]"
   ]
  },
  {
   "cell_type": "code",
   "execution_count": 191,
   "metadata": {},
   "outputs": [
    {
     "data": {
      "text/plain": [
       "(3900,)"
      ]
     },
     "execution_count": 191,
     "metadata": {},
     "output_type": "execute_result"
    }
   ],
   "source": [
    "nested_list_ham.shape"
   ]
  },
  {
   "cell_type": "code",
   "execution_count": 192,
   "metadata": {},
   "outputs": [],
   "source": [
    "nested_list_spam= nested_list.loc[doc_ids_spam]"
   ]
  },
  {
   "cell_type": "code",
   "execution_count": 198,
   "metadata": {},
   "outputs": [],
   "source": [
    "flat_list_ham= [item for sublist in nested_list_ham for item in sublist]\n",
    "normal_words=pd.Series(flat_list_ham).value_counts()"
   ]
  },
  {
   "cell_type": "code",
   "execution_count": 200,
   "metadata": {},
   "outputs": [
    {
     "data": {
      "text/plain": [
       "20755"
      ]
     },
     "execution_count": 200,
     "metadata": {},
     "output_type": "execute_result"
    }
   ],
   "source": [
    "normal_words.shape[0]"
   ]
  },
  {
   "cell_type": "code",
   "execution_count": 202,
   "metadata": {},
   "outputs": [
    {
     "data": {
      "text/plain": [
       "http      7561\n",
       "use       3630\n",
       "list      2878\n",
       "one       2371\n",
       "get       2284\n",
       "mail      2255\n",
       "would     2003\n",
       "like      1928\n",
       "messag    1847\n",
       "work      1798\n",
       "dtype: int64"
      ]
     },
     "execution_count": 202,
     "metadata": {},
     "output_type": "execute_result"
    }
   ],
   "source": [
    "normal_words[:10]"
   ]
  },
  {
   "cell_type": "code",
   "execution_count": 203,
   "metadata": {},
   "outputs": [],
   "source": [
    "flat_list_spam= [item for sublist in nested_list_spam for item in sublist]\n",
    "spam_words=pd.Series(flat_list_spam).value_counts()"
   ]
  },
  {
   "cell_type": "code",
   "execution_count": 204,
   "metadata": {},
   "outputs": [
    {
     "data": {
      "text/plain": [
       "13284"
      ]
     },
     "execution_count": 204,
     "metadata": {},
     "output_type": "execute_result"
    }
   ],
   "source": [
    "spam_words.shape[0]"
   ]
  },
  {
   "cell_type": "code",
   "execution_count": 205,
   "metadata": {},
   "outputs": [
    {
     "data": {
      "text/plain": [
       "http      3101\n",
       "email     3094\n",
       "free      2555\n",
       "click     2058\n",
       "receiv    1987\n",
       "list      1974\n",
       "get       1903\n",
       "pleas     1842\n",
       "busi      1792\n",
       "order     1743\n",
       "dtype: int64"
      ]
     },
     "execution_count": 205,
     "metadata": {},
     "output_type": "execute_result"
    }
   ],
   "source": [
    "spam_words[:10]"
   ]
  },
  {
   "cell_type": "markdown",
   "metadata": {},
   "source": [
    "## Generate Vocabulary"
   ]
  },
  {
   "cell_type": "code",
   "execution_count": 206,
   "metadata": {},
   "outputs": [],
   "source": [
    "stemmed_nested_list= data.MESSAGE.apply(clean_msg_no_html)\n",
    "flat_stemmed_list=[item for sublist in stemmed_nested_list for item in sublist]"
   ]
  },
  {
   "cell_type": "code",
   "execution_count": 208,
   "metadata": {},
   "outputs": [
    {
     "name": "stdout",
     "output_type": "stream",
     "text": [
      "no. of unique words 27305\n"
     ]
    },
    {
     "data": {
      "text/plain": [
       "http     10662\n",
       "use       5017\n",
       "list      4852\n",
       "email     4370\n",
       "get       4187\n",
       "mail      3985\n",
       "one       3905\n",
       "free      3171\n",
       "time      3090\n",
       "work      2880\n",
       "dtype: int64"
      ]
     },
     "execution_count": 208,
     "metadata": {},
     "output_type": "execute_result"
    }
   ],
   "source": [
    "unique_words=pd.Series(flat_stemmed_list).value_counts()\n",
    "print('no. of unique words', unique_words.shape[0])\n",
    "unique_words[:10]"
   ]
  },
  {
   "cell_type": "code",
   "execution_count": 210,
   "metadata": {},
   "outputs": [
    {
     "name": "stdout",
     "output_type": "stream",
     "text": [
      "Most common words are :  http     10662\n",
      "use       5017\n",
      "list      4852\n",
      "email     4370\n",
      "get       4187\n",
      "mail      3985\n",
      "one       3905\n",
      "free      3171\n",
      "time      3090\n",
      "work      2880\n",
      "dtype: int64\n"
     ]
    }
   ],
   "source": [
    "freq= unique_words[0:2500]\n",
    "print('Most common words are : ', freq[:10])"
   ]
  },
  {
   "cell_type": "markdown",
   "metadata": {},
   "source": [
    "## Creating word ID for words"
   ]
  },
  {
   "cell_type": "code",
   "execution_count": 218,
   "metadata": {},
   "outputs": [
    {
     "data": {
      "text/html": [
       "<div>\n",
       "<style scoped>\n",
       "    .dataframe tbody tr th:only-of-type {\n",
       "        vertical-align: middle;\n",
       "    }\n",
       "\n",
       "    .dataframe tbody tr th {\n",
       "        vertical-align: top;\n",
       "    }\n",
       "\n",
       "    .dataframe thead th {\n",
       "        text-align: right;\n",
       "    }\n",
       "</style>\n",
       "<table border=\"1\" class=\"dataframe\">\n",
       "  <thead>\n",
       "    <tr style=\"text-align: right;\">\n",
       "      <th></th>\n",
       "      <th>VOCAB_WORD</th>\n",
       "    </tr>\n",
       "    <tr>\n",
       "      <th>WORD_ID</th>\n",
       "      <th></th>\n",
       "    </tr>\n",
       "  </thead>\n",
       "  <tbody>\n",
       "    <tr>\n",
       "      <td>0</td>\n",
       "      <td>http</td>\n",
       "    </tr>\n",
       "    <tr>\n",
       "      <td>1</td>\n",
       "      <td>use</td>\n",
       "    </tr>\n",
       "    <tr>\n",
       "      <td>2</td>\n",
       "      <td>list</td>\n",
       "    </tr>\n",
       "    <tr>\n",
       "      <td>3</td>\n",
       "      <td>email</td>\n",
       "    </tr>\n",
       "    <tr>\n",
       "      <td>4</td>\n",
       "      <td>get</td>\n",
       "    </tr>\n",
       "  </tbody>\n",
       "</table>\n",
       "</div>"
      ],
      "text/plain": [
       "        VOCAB_WORD\n",
       "WORD_ID           \n",
       "0             http\n",
       "1              use\n",
       "2             list\n",
       "3            email\n",
       "4              get"
      ]
     },
     "execution_count": 218,
     "metadata": {},
     "output_type": "execute_result"
    }
   ],
   "source": [
    "word_ids = list(range(0, VOCAB_SIZE))\n",
    "vocab = pd.DataFrame({'VOCAB_WORD': freq.index.values}, index=word_ids)\n",
    "vocab.index.name = 'WORD_ID'\n",
    "vocab.head()"
   ]
  },
  {
   "cell_type": "code",
   "execution_count": 220,
   "metadata": {},
   "outputs": [],
   "source": [
    "vocab.to_csv(WORD_ID_FILE, index_label=vocab.index.name,header = vocab.VOCAB_WORD.name)"
   ]
  },
  {
   "cell_type": "markdown",
   "metadata": {},
   "source": [
    "## Check longest Email"
   ]
  },
  {
   "cell_type": "code",
   "execution_count": 222,
   "metadata": {},
   "outputs": [],
   "source": [
    "clean_email_length=[]\n",
    "for sublist in stemmed_nested_list:\n",
    "    clean_email_length.append(len(sublist))"
   ]
  },
  {
   "cell_type": "code",
   "execution_count": 224,
   "metadata": {},
   "outputs": [
    {
     "name": "stdout",
     "output_type": "stream",
     "text": [
      "[92, 56, 44, 205, 45, 161, 47, 162, 202, 43, 55, 23, 44, 73, 58, 235, 47, 208, 36, 56, 223, 192, 0, 93, 14, 208, 44, 24, 61, 94, 312, 56, 141, 72, 55, 1060, 46, 139, 2, 90, 78, 4, 47, 70, 44, 74, 38, 12, 38, 60, 47, 51, 71, 80, 25, 273, 36, 60, 19, 18, 14, 40, 57, 18, 77, 28, 102, 40, 226, 68, 120, 5, 52, 0, 40, 40, 208, 0, 40, 146, 62, 114, 58, 253, 1216, 49, 0, 65, 52, 141, 15, 0, 90, 70, 2, 196, 50, 50, 50, 213, 117, 43, 80, 43, 319, 242, 9, 36, 97, 25, 52, 333, 47, 60, 0, 38, 78, 97, 79, 55, 102, 34, 70, 55, 24, 129, 50, 0, 39, 74, 43, 72, 47, 157, 0, 27, 223, 97, 0, 58, 84, 213, 75, 47, 18, 166, 20, 112, 104, 187, 6, 40, 54, 79, 276, 110, 208, 6, 479, 62, 17, 175, 79, 47, 74, 80, 258, 33, 218, 38, 36, 110, 93, 61, 55, 41, 108, 80, 84, 0, 52, 1389, 108, 97, 23, 185, 1, 117, 258, 28, 142, 195, 177, 0, 97, 109, 1465, 0, 108, 150, 113, 38, 153, 38, 42, 0, 0, 383, 185, 77, 330, 14, 92, 92, 166, 372, 187, 241, 143, 254, 14, 97, 135, 223, 65, 90, 226, 217, 129, 38, 94, 204, 258, 215, 146, 205, 572, 183, 3, 67, 0, 67, 13, 19, 6079, 48, 360, 175, 50, 835, 109, 3, 183, 835, 835, 123, 1262, 1262, 408, 79, 274, 274, 8, 142, 187, 41, 266, 65, 151, 250, 152, 36, 657, 117, 3, 14, 170, 161, 157, 102, 49, 1460, 421, 129, 111, 165, 317, 2, 51, 458, 185, 89, 3, 90, 74, 34, 34, 245, 0, 37, 98, 182, 2, 20, 96, 61, 4, 177, 168, 121, 3, 329, 10, 5, 177, 738, 361, 509, 1539, 8, 69, 29, 8, 8, 128, 128, 128, 509, 0, 67, 258, 256, 256, 256, 256, 0, 132, 3, 1, 0, 142, 100, 72, 215, 25, 362, 115, 9, 52, 25, 27, 389, 6, 239, 81, 157, 117, 104, 249, 14, 247, 224, 1177, 26, 215, 162, 157, 27, 75, 0, 81, 748, 80, 35, 54, 63, 169, 104, 42, 132, 239, 157, 164, 131, 100, 72, 60, 104, 184, 184, 61, 47, 58, 65, 217, 82, 2, 31, 319, 102, 86, 117, 0, 37, 1480, 20, 15, 100, 249, 81, 144, 104, 58, 78, 83, 95, 217, 15, 90, 77, 34, 1183, 1171, 95, 27, 115, 748, 56, 90, 227, 81, 178, 27, 81, 426, 76, 128, 50, 68, 0, 34, 51, 50, 258, 247, 45, 79, 230, 38, 664, 82, 92, 8, 105, 258, 108, 32, 72, 47, 247, 126, 210, 124, 81, 252, 216, 167, 61, 36, 140, 42, 0, 323, 104, 149, 1460, 78, 146, 21, 226, 114, 79, 155, 196, 195, 673, 74, 86, 2092, 96, 90, 90, 132, 191, 269, 53, 38, 78, 341, 49, 227, 300, 377, 377, 165, 32, 157, 691, 217, 52, 97, 355, 266, 76, 46, 297, 42, 39, 105, 381, 67, 72, 16, 300, 300, 262, 37, 1032, 37, 24, 19, 87, 59, 218, 80, 80, 255, 78, 1022, 1067, 56, 1213, 53, 2205, 1071, 718, 718, 36, 36, 56, 4171, 56, 234, 112, 19, 42, 48, 18, 57, 89, 83, 122, 57, 97, 97, 122, 122, 829, 231, 60, 50, 70, 122, 79, 219, 328, 1813, 482, 482, 818, 1824, 270, 158, 121, 101, 101, 482, 44, 656, 286, 137, 270, 102, 270, 285, 91, 91, 40, 88, 156, 156, 100, 53, 89, 92, 74, 35, 78, 76, 76, 223, 605, 68, 21, 66, 95, 1746, 68, 104, 19, 104, 1803, 53, 52, 77, 120, 80, 95, 40, 56, 56, 102, 52, 181, 74, 74, 71, 178, 164, 252, 91, 91, 91, 108, 1632, 40, 49, 42, 79, 80, 80, 80, 79, 79, 108, 52, 77, 9, 58, 58, 70, 222, 58, 96, 58, 71, 18, 122, 240, 566, 1, 142, 85, 50, 110, 175, 57, 49, 622, 72, 72, 172, 166, 166, 166, 32, 32, 161, 161, 161, 120, 205, 191, 190, 20, 116, 116, 116, 216, 353, 135, 75, 75, 674, 5, 49, 255, 239, 108, 79, 43, 43, 5, 219, 3, 3, 3, 250, 3, 3, 3, 3, 3, 3, 3, 47, 90, 4, 133, 170, 93, 835, 129, 5, 0, 241, 166, 392, 411, 101, 72, 195, 37, 11, 215, 4, 55, 273, 10, 12, 388, 1445, 211, 90, 7, 152, 115, 5, 5, 51, 301, 112, 253, 36, 56, 0, 0, 138, 65, 97, 64, 65, 56, 87, 272, 5, 834, 1079, 834, 410, 101, 52, 50, 327, 56, 72, 357, 49, 95, 55, 79, 35, 30, 116, 95, 104, 114, 129, 56, 100, 73, 51, 49, 32, 59, 43, 40, 130, 126, 80, 42, 59, 73, 59, 83, 422, 15, 157, 294, 264, 73, 274, 56, 377, 87, 93, 163, 45, 208, 49, 433, 66, 73, 87, 204, 49, 145, 205, 40, 40, 40, 40, 40, 40, 7, 258, 118, 83, 193, 76, 108, 1130, 18, 62, 40, 234, 191, 20, 419, 96, 145, 21, 32, 102, 19, 78, 82, 126, 51, 56, 265, 69, 238, 66, 54, 0, 26, 145, 1, 205, 31, 44, 40, 52, 72, 103, 59, 20, 50, 15, 682, 116, 55, 50, 160, 272, 212, 110, 80, 167, 175, 167, 1030, 206, 55, 23, 105, 313, 73, 214, 26, 66, 76, 7, 90, 77, 1018, 78, 31, 99, 417, 72, 170, 137, 0, 78, 417, 232, 110, 0, 49, 55, 34, 34, 104, 264, 93, 18, 176, 0, 1, 297, 83, 105, 4, 0, 155, 49, 40, 141, 59, 395, 72, 78, 50, 72, 231, 57, 216, 151, 73, 55, 66, 46, 77, 0, 171, 96, 39, 144, 199, 1445, 15, 37, 97, 105, 66, 1130, 66, 107, 333, 55, 5, 0, 78, 40, 116, 304, 0, 342, 246, 151, 144, 42, 59, 252, 58, 58, 33, 75, 75, 68, 140, 103, 115, 676, 241, 241, 128, 59, 101, 102, 68, 187, 72, 158, 7, 12, 332, 21, 103, 114, 71, 77, 93, 135, 77, 264, 148, 264, 76, 67, 55, 468, 80, 0, 477, 36, 89, 31, 386, 49, 74, 73, 119, 2, 103, 103, 73, 78, 65, 275, 66, 424, 108, 59, 5, 72, 73, 77, 29, 74, 120, 120, 31, 71, 145, 65, 151, 1095, 23, 188, 196, 196, 196, 423, 423, 32, 121, 261, 72, 105, 66, 55, 11, 104, 689, 78, 104, 53, 127, 58, 871, 43, 221, 100, 468, 97, 104, 170, 0, 113, 39, 64, 113, 154, 233, 108, 157, 28, 46, 46, 120, 8, 36, 185, 65, 41, 29, 39, 78, 11, 63, 49, 158, 65, 54, 225, 276, 56, 71, 73, 78, 97, 112, 245, 245, 528, 161, 169, 1113, 72, 11, 149, 73, 303, 303, 47, 72, 96, 168, 83, 176, 77, 57, 10, 97, 44, 57, 10, 38, 122, 256, 500, 0, 329, 32, 62, 161, 871, 1, 166, 97, 132, 65, 127, 13, 128, 181, 168, 202, 105, 302, 93, 120, 113, 72, 147, 129, 51, 239, 38, 123, 85, 688, 2, 113, 196, 113, 13, 42, 95, 117, 95, 7, 830, 120, 65, 657, 90, 53, 76, 15, 428, 91, 74, 259, 30, 4, 167, 92, 39, 478, 162, 149, 52, 92, 94, 94, 250, 56, 15, 3, 304, 0, 176, 1453, 1453, 267, 57, 58, 29, 25, 223, 84, 172, 30, 122, 2, 46, 106, 532, 46, 176, 203, 33, 38, 62, 37, 37, 71, 105, 38, 267, 96, 87, 333, 405, 17, 310, 197, 6, 127, 50, 87, 144, 76, 285, 150, 237, 67, 193, 17, 37, 16, 152, 103, 43, 113, 32, 129, 127, 60, 75, 32, 38, 77, 72, 92, 19, 30, 11, 125, 26, 17, 286, 34, 77, 25, 25, 295, 32, 46, 0, 359, 295, 74, 89, 180, 121, 25, 83, 38, 38, 265, 1016, 157, 106, 38, 18, 286, 40, 86, 108, 125, 285, 90, 106, 232, 30, 107, 25, 31, 91, 105, 84, 38, 29, 11, 47, 31, 31, 87, 351, 94, 25, 177, 36, 107, 177, 0, 50, 85, 85, 29, 28, 45, 151, 39, 313, 54, 14, 74, 85, 376, 11, 49, 376, 94, 27, 65, 95, 49, 133, 405, 94, 380, 98, 70, 184, 150, 150, 50, 140, 140, 32, 106, 72, 506, 31, 135, 144, 2132, 176, 14, 305, 278, 190, 579, 260, 33, 121, 90, 51, 230, 56, 12, 109, 30, 73, 43, 82, 1045, 110, 135, 73, 68, 37, 111, 244, 79, 313, 313, 100, 64, 262, 652, 11, 113, 113, 113, 61, 76, 274, 154, 154, 527, 11, 11, 202, 113, 79, 157, 86, 18, 11, 49, 75, 66, 167, 167, 33, 68, 203, 167, 166, 79, 436, 77, 38, 481, 72, 3, 184, 184, 157, 112, 3, 160, 102, 1463, 86, 18, 18, 25, 38, 7, 156, 2095, 30, 260, 77, 64, 362, 436, 26, 850, 31, 287, 49, 62, 149, 84, 276, 66, 209, 213, 72, 197, 66, 90, 420, 79, 44, 106, 82, 361, 50, 221, 53, 221, 75, 44, 343, 179, 61, 60, 282, 45, 77, 175, 47, 102, 114, 436, 33, 428, 192, 151, 43, 43, 191, 39, 282, 1, 291, 61, 167, 59, 420, 67, 190, 153, 153, 1478, 222, 32, 96, 25, 45, 44, 81, 76, 160, 59, 476, 167, 15, 242, 15, 112, 106, 117, 123, 89, 117, 58, 117, 6093, 145, 58, 210, 1478, 87, 62, 83, 83, 24, 87, 1767, 1767, 11, 121, 150, 40, 36, 90, 34, 71, 62, 62, 76, 76, 171, 75, 96, 59, 58, 145, 63, 140, 52, 51, 104, 76, 24, 77, 81, 81, 25, 4, 281, 33, 125, 86, 69, 80, 69, 51, 79, 70, 74, 19, 45, 729, 38, 66, 177, 72, 340, 43, 17, 38, 4, 109, 54, 328, 46, 106, 34, 17, 62, 124, 63, 1463, 346, 31, 180, 40, 104, 178, 219, 154, 38, 54, 294, 123, 213, 149, 77, 0, 80, 73, 50, 20, 51, 50, 93, 93, 152, 32, 61, 59, 14, 172, 728, 0, 241, 240, 728, 54, 69, 23, 108, 220, 31, 98, 38, 124, 23, 0, 31, 152, 27, 51, 108, 54, 1463, 38, 473, 95, 75, 4, 297, 64, 104, 24, 106, 157, 70, 96, 27, 25, 258, 38, 259, 17, 307, 59, 33, 80, 76, 54, 3, 54, 90, 70, 157, 28, 60, 1004, 122, 36, 31, 46, 144, 16, 77, 75, 40, 58, 71, 50, 238, 1306, 1306, 285, 3, 69, 17, 442, 71, 94, 67, 907, 321, 183, 80, 28, 73, 77, 79, 178, 70, 87, 124, 225, 30, 83, 77, 188, 60, 40, 3, 140, 156, 41, 157, 107, 89, 50, 54, 164, 108, 36, 285, 65, 5, 54, 301, 38, 8, 162, 1208, 10, 97, 14, 41, 147, 151, 54, 3, 3, 14, 109, 74, 62, 79, 38, 54, 10, 1171, 38, 58, 76, 54, 30, 97, 259, 24, 24, 258, 73, 118, 77, 52, 155, 366, 20, 63, 209, 1460, 79, 76, 70, 42, 0, 33, 118, 74, 120, 126, 28, 28, 332, 78, 49, 38, 130, 215, 54, 20, 23, 97, 54, 124, 51, 39, 232, 81, 33, 151, 272, 108, 1441, 135, 25, 152, 0, 186, 35, 50, 96, 232, 42, 49, 117, 159, 113, 152, 26, 175, 183, 161, 1981, 191, 100, 63, 149, 97, 74, 46, 103, 82, 497, 54, 29, 78, 74, 131, 380, 46, 89, 80, 21, 51, 24, 130, 142, 69, 79, 204, 116, 30, 46, 224, 30, 59, 16, 24, 51, 81, 236, 178, 107, 93, 39, 26, 184, 76, 70, 10, 88, 95, 42, 357, 27, 63, 58, 61, 10, 30, 84, 53, 72, 42, 206, 144, 192, 1097, 6, 55, 181, 170, 60, 221, 34, 66, 76, 317, 26, 16, 319, 93, 25, 41, 163, 15, 56, 41, 100, 24, 373, 93, 137, 86, 125, 45, 84, 78, 38, 123, 35, 226, 82, 60, 81, 34, 94, 114, 65, 54, 125, 71, 153, 56, 86, 107, 132, 68, 90, 48, 140, 86, 126, 54, 48, 77, 49, 46, 52, 80, 21, 205, 47, 139, 95, 79, 75, 56, 88, 60, 31, 119, 28, 23, 17, 19, 13, 15, 15, 16, 18, 17, 16, 66, 90, 48, 424, 167, 37, 390, 188, 354, 145, 152, 133, 80, 48, 187, 186, 1827, 41, 44, 81, 18, 56, 116, 51, 144, 72, 45, 265, 186, 258, 387, 260, 564, 318, 196, 53, 216, 205, 120, 74, 344, 63, 99, 13, 56, 75, 35, 42, 56, 39, 111, 44, 61, 34, 164, 73, 63, 64, 80, 64, 101, 43, 143, 203, 100, 55, 125, 91, 49, 55, 53, 65, 26, 253, 118, 654, 43, 42, 94, 179, 121, 58, 240, 229, 148, 200, 34, 34, 71, 75, 251, 84, 74, 33, 140, 47, 61, 249, 24, 45, 171, 360, 53, 142, 227, 162, 59, 37, 54, 29, 43, 443, 24, 40, 57, 2765, 82, 47, 106, 83, 74, 939, 119, 60, 129, 29, 23, 61, 75, 32, 214, 48, 118, 129, 82, 46, 53, 42, 72, 57, 26, 113, 133, 186, 51, 125, 37, 32, 77, 91, 132, 66, 1485, 168, 132, 1129, 58, 27, 50, 68, 31, 43, 73, 32, 125, 164, 28, 281, 281, 281, 297, 497, 35, 219, 83, 852, 219, 111, 81, 110, 162, 47, 104, 129, 53, 26, 89, 20, 25, 70, 56, 109, 525, 24, 73, 133, 60, 70, 30, 97, 54, 37, 57, 123, 137, 119, 36, 67, 291, 9, 25, 52, 66, 63, 7, 120, 106, 39, 122, 161, 38, 75, 39, 606, 50, 33, 87, 6, 53, 82, 55, 59, 531, 83, 95, 101, 73, 103, 108, 41, 126, 9, 24, 126, 44, 80, 80, 55, 58, 290, 44, 49, 80, 47, 15, 469, 70, 103, 32, 52, 67, 95, 20, 323, 334, 14, 16, 344, 275, 67, 434, 176, 203, 327, 77, 8, 99, 107, 313, 117, 42, 27, 69, 259, 120, 32, 98, 61, 36, 58, 96, 52, 79, 260, 110, 14, 40, 82, 285, 38, 157, 786, 304, 637, 66, 616, 165, 76, 140, 148, 36, 616, 135, 16, 79, 151, 64, 101, 33, 90, 142, 26, 12, 35, 96, 34, 65, 201, 239, 106, 279, 119, 291, 42, 350, 33, 112, 314, 138, 158, 131, 101, 27, 56, 60, 85, 107, 184, 49, 94, 111, 243, 44, 13, 215, 103, 104, 71, 82, 72, 24, 45, 44, 68, 50, 171, 270, 45, 39, 204, 27, 94, 44, 285, 72, 10, 134, 417, 149, 139, 62, 83, 105, 69, 159, 97, 136, 53, 85, 83, 81, 468, 27, 125, 94, 96, 53, 58, 688, 237, 133, 176, 184, 76, 616, 48, 51, 103, 675, 657, 157, 20, 32, 9, 24, 268, 54, 98, 117, 10, 3404, 69, 78, 128, 17, 18, 44, 62, 263, 177, 72, 181, 34, 545, 70, 12, 213, 140, 47, 131, 333, 268, 236, 123, 84, 539, 13, 292, 144, 68, 46, 79, 115, 61, 48, 144, 152, 29, 41, 43, 44, 118, 25, 44, 378, 13, 28, 29, 94, 90, 40, 98, 275, 224, 125, 62, 54, 273, 91, 130, 11, 93, 122, 30, 124, 168, 74, 43, 254, 767, 60, 172, 71, 6, 18, 46, 99, 65, 556, 33, 127, 36, 56, 144, 200, 143, 124, 176, 95, 84, 106, 40, 55, 43, 91, 42, 42, 230, 202, 266, 7338, 71, 92, 30, 99, 8, 21, 7354, 296, 223, 31, 111, 51, 76, 34, 66, 153, 60, 193, 22, 36, 42, 58, 33, 27, 30, 81, 51, 44, 62, 142, 79, 62, 56, 194, 56, 236, 100, 36, 286, 61, 49, 423, 1079, 188, 12, 398, 478, 147, 884, 153, 109, 42, 54, 89, 208, 197, 54, 206, 43, 14, 19, 29, 536, 376, 629, 62, 68, 414, 15, 79, 105, 95, 36, 559, 492, 724, 553, 48, 55, 51, 123, 23, 24, 33, 75, 54, 38, 108, 19, 15, 169, 19, 41, 14, 2936, 69, 134, 33, 109, 228, 213, 33, 39, 36, 63, 216, 98, 49, 110, 512, 412, 210, 77, 33, 109, 32, 17, 17, 30, 18, 66, 42, 689, 99, 46, 126, 218, 258, 308, 176, 111, 52, 49, 67, 203, 40, 1, 892, 150, 115, 369, 36, 97, 7, 146, 42, 79, 114, 100, 42, 105, 118, 35, 130, 51, 39, 106, 284, 170, 54, 643, 60, 136, 6, 665, 139, 21, 63, 25, 71, 96, 52, 160, 65, 194, 57, 164, 34, 136, 113, 173, 36, 54, 44, 238, 131, 101, 298, 29, 34, 126, 29, 190, 40, 191, 368, 39, 159, 42, 99, 68, 45, 24, 31, 26, 143, 52, 164, 247, 39, 13, 19, 132, 25, 200, 129, 27, 153, 78, 63, 60, 95, 1280, 44, 82, 194, 116, 14, 30, 53, 58, 83, 45, 159, 108, 38, 65, 104, 31, 59, 115, 169, 211, 129, 30, 224, 46, 51, 17, 56, 83, 67, 78, 34, 115, 156, 59, 28, 76, 65, 1693, 120, 39, 1727, 59, 1752, 144, 463, 129, 100, 531, 2929, 1048, 79, 104, 47, 105, 140, 65, 115, 61, 95, 57, 75, 137, 193, 60, 553, 25, 78, 64, 122, 190, 124, 207, 102, 197, 130, 146, 85, 71, 116, 292, 60, 66, 38, 53, 27, 117, 47, 98, 61, 34, 51, 31, 98, 108, 61, 81, 98, 42, 179, 113, 31, 58, 70, 87, 70, 110, 94, 95, 127, 75, 119, 75, 49, 84, 83, 113, 88, 62, 177, 54, 130, 58, 47, 94, 183, 86, 124, 61, 83, 105, 136, 129, 23, 69, 22, 47, 90, 209, 33, 17, 54, 73, 128, 67, 70, 109, 107, 142, 77, 200, 76, 308, 268, 99, 90, 25, 245, 21, 29, 154, 50, 53, 93, 37, 63, 36, 34, 33, 86, 77, 63, 31, 53, 61, 64, 78, 53, 128, 156, 100, 90, 84, 156, 71, 82, 40, 55, 93, 93, 15, 197, 77, 85, 31, 41, 33, 65, 49, 43, 43, 114, 126, 92, 40, 55, 108, 56, 24, 60, 43, 82, 49, 29, 24, 115, 32, 119, 19, 50, 103, 46, 21, 24, 67, 54, 115, 65, 27, 132, 225, 84, 134, 183, 145, 253, 171, 132, 246, 158, 122, 83, 35, 85, 294, 45, 48, 92, 225, 111, 25, 68, 56, 103, 39, 74, 62, 81, 43, 112, 33, 38, 125, 64, 67, 96, 65, 148, 184, 100, 112, 127, 145, 155, 55, 51, 61, 95, 20, 56, 28, 98, 42, 162, 85, 154, 41, 19, 53, 46, 130, 88, 95, 70, 67, 35, 77, 83, 129, 62, 72, 105, 23, 63, 37, 157, 46, 119, 71, 37, 75, 106, 35, 100, 23, 96, 29, 94, 66, 75, 64, 128, 222, 117, 104, 136, 62, 99, 47, 105, 138, 177, 132, 46, 121, 58, 30, 69, 137, 48, 61, 58, 42, 28, 33, 50, 68, 37, 57, 8, 59, 78, 66, 90, 117, 282, 118, 128, 52, 23, 44, 86, 64, 142, 81, 16, 35, 40, 47, 16, 66, 18, 25, 52, 13, 50, 49, 48, 112, 308, 61, 135, 118, 87, 50, 63, 20, 10, 55, 44, 35, 83, 49, 217, 140, 185, 150, 102, 65, 55, 116, 132, 34, 75, 80, 60, 67, 78, 26, 104, 198, 40, 51, 71, 57, 545, 37, 34, 38, 102, 82, 118, 56, 53, 59, 83, 57, 110, 140, 114, 27, 72, 52, 78, 86, 62, 21, 57, 42, 63, 39, 39, 38, 81, 128, 86, 95, 21, 26, 55, 56, 48, 72, 25, 39, 86, 77, 42, 201, 98, 89, 51, 35, 113, 48, 86, 130, 133, 60, 104, 40, 130, 53, 209, 28, 51, 99, 77, 408, 32, 107, 93, 268, 30, 146, 318, 51, 78, 54, 127, 200, 99, 67, 54, 54, 52, 59, 80, 41, 85, 28, 14, 199, 93, 37, 60, 98, 46, 67, 81, 94, 47, 82, 76, 137, 57, 54, 90, 160, 163, 102, 163, 37, 23, 175, 19, 110, 152, 157, 101, 51, 53, 72, 55, 83, 21, 27, 30, 40, 93, 55, 83, 84, 92, 77, 32, 55, 109, 43, 70, 94, 29, 20, 82, 75, 79, 55, 148, 63, 64, 46, 34, 23, 138, 154, 29, 49, 114, 80, 26, 68, 120, 58, 108, 108, 201, 166, 88, 42, 87, 193, 70, 50, 104, 24, 50, 40, 72, 62, 68, 22, 65, 117, 39, 72, 103, 70, 79, 99, 46, 37, 84, 85, 39, 34, 36, 30, 113, 56, 132, 182, 32, 41, 82, 10, 96, 50, 19, 93, 56, 39, 97, 38, 51, 96, 40, 46, 40, 75, 223, 30, 31, 22, 23, 64, 29, 164, 45, 109, 95, 42, 36, 58, 39, 95, 44, 73, 53, 67, 151, 32, 47, 146, 177, 76, 67, 55, 72, 149, 205, 37, 365, 112, 45, 74, 76, 185, 47, 138, 67, 84, 47, 70, 149, 62, 97, 117, 104, 91, 90, 94, 31, 67, 145, 63, 66, 86, 99, 44, 30, 70, 257, 53, 55, 22, 38, 75, 98, 155, 32, 53, 64, 102, 133, 49, 58, 25, 37, 59, 37, 48, 42, 89, 99, 74, 46, 101, 235, 82, 45, 56, 68, 132, 89, 80, 270, 93, 488, 68, 109, 81, 332, 65, 240, 374, 107, 116, 216, 260, 161, 68, 224, 130, 32, 48, 56, 43, 74, 133, 28, 95, 199, 98, 168, 111, 97, 98, 110, 48, 32, 74, 124, 236, 53, 62, 210, 77, 44, 216, 187, 178, 43, 59, 102, 162, 49, 65, 50, 87, 97, 125, 51, 114, 21, 52, 27, 256, 141, 69, 39, 134, 78, 36, 69, 9, 52, 32, 51, 23, 10, 27, 94, 80, 60, 53, 30, 21, 12, 33, 67, 75, 121, 202, 60, 52, 84, 14, 27, 45, 130, 370, 210, 568, 170, 68, 47, 91, 173, 81, 39, 104, 80, 22, 52, 85, 23, 133, 41, 99, 199, 26, 28, 19, 49, 33, 113, 15, 146, 94, 44, 350, 70, 92, 35, 59, 36, 165, 268, 119, 35, 42, 273, 117, 25, 65, 29, 51, 76, 50, 123, 54, 143, 91, 50, 79, 40, 78, 42, 81, 40, 91, 119, 48, 58, 158, 39, 76, 76, 39, 62, 42, 94, 41, 105, 42, 72, 58, 186, 111, 40, 79, 134, 148, 43, 108, 39, 69, 40, 75, 49, 144, 42, 69, 39, 68, 74, 38, 224, 53, 108, 77, 46, 29, 85, 87, 70, 29, 29, 49, 141, 66, 54, 63, 73, 13, 73, 12, 10, 53, 12, 93, 43, 28, 69, 96, 14, 47, 18, 74, 21, 21, 120, 12, 25, 11, 12, 28, 10, 32, 35, 24, 29, 158, 147, 20, 38, 81, 11, 175, 23, 50, 12, 62, 111, 132, 12, 14, 15, 23, 28, 11, 19, 15, 12, 26, 12, 11, 17, 61, 27, 34, 19, 97, 28, 97, 29, 110, 60, 83, 52, 103, 43, 67, 67, 47, 26, 97, 44, 14, 22, 28, 15, 21, 77, 23, 23, 71, 55, 41, 64, 9, 13, 102, 30, 31, 15, 23, 16, 28, 81, 15, 56, 28, 29, 109, 253, 236, 21, 37, 248, 58, 370, 70, 137, 119, 79, 156, 5, 4, 6, 183, 6, 189, 6, 26, 4, 15, 44, 17, 6, 44, 5, 94, 5, 5, 5, 5, 5, 27, 5, 16, 21, 17, 18, 18, 16, 18, 16, 17, 15, 19, 18, 14, 15, 18, 15, 17, 19, 14, 18, 16, 16, 16, 20, 15, 15, 16, 300, 15, 19, 21, 22, 6, 6, 21, 26, 5, 6, 3, 6, 42, 3, 44, 6, 21, 57, 11, 5, 17, 7, 3, 124, 94, 5, 5, 7, 6, 6, 40, 6, 6, 5, 3, 5, 14, 29, 4, 24, 5, 17, 39, 39, 45, 24, 12, 43, 11, 10, 9, 8, 31, 13, 39, 29, 14, 19, 39, 17, 45, 29, 38, 16, 39, 11, 6, 63, 144, 119, 27, 7, 11, 14, 9, 16, 34, 12, 16, 29, 12, 39, 43, 13, 19, 21, 38, 39, 21, 14, 39, 29, 45, 16, 4, 14, 136, 48, 123, 16, 6, 37, 6, 13, 4, 5, 14, 17, 12, 9, 6, 19, 5, 11, 6, 5, 6, 16, 5, 5, 19, 5, 3, 6, 5, 15, 65, 4, 5, 6, 17, 3, 4, 5, 12, 5, 43, 33, 6, 15, 5, 4, 39, 11, 24, 11, 23, 3, 38, 22, 47, 3, 3, 3, 5, 5, 10, 15, 14, 6, 21, 18, 29, 6, 3, 6, 5, 4, 5, 39, 3, 15, 29, 6, 45, 6, 39, 4, 7, 71, 23, 138, 20, 13, 22, 18, 18, 11, 15, 16, 15, 23, 24, 44, 8, 100, 11, 16, 129, 34, 22, 65, 113, 12, 30, 36, 39, 326, 17, 110, 50, 28, 18, 169, 16, 13, 22, 26, 76, 10, 17, 21, 121, 38, 13, 20, 17, 11, 12, 54, 14, 26, 10, 23, 22, 16, 8, 19, 26, 120, 17, 75, 23, 40, 16, 166, 19, 20, 16, 13, 14, 33, 456, 105, 102, 147, 37, 12, 52, 49, 9, 84, 18, 22, 12, 22, 12, 80, 10, 17, 17, 12, 18, 13, 20, 21, 14, 99, 12, 16, 17, 14, 13, 13, 13, 15, 14, 10, 13, 101, 18, 13, 38, 11, 57, 74, 33, 31, 10, 8, 12, 11, 18, 17, 153, 20, 17, 33, 18, 35, 33, 48, 21, 45, 15, 14, 30, 47, 105, 50, 24, 12, 94, 44, 27, 20, 36, 19, 18, 56, 40, 26, 42, 126, 16, 42, 21, 44, 15, 33, 80, 20, 35, 50, 57, 32, 58, 175, 64, 39, 13, 7, 13, 9, 12, 14, 12, 10, 152, 14, 64, 35, 601, 114, 31, 63, 21, 23, 20, 16, 25, 10, 7, 42, 16, 15, 21, 14, 17, 51, 13, 75, 19, 19, 53, 58, 344, 640, 25, 78, 62, 14, 12, 15, 45, 26, 16, 11, 10, 33, 10, 26, 17, 11, 10, 17, 19, 8, 571, 29, 76, 18, 30, 91, 14, 196, 48, 57, 15, 16, 17, 18, 14, 11, 15, 27, 17, 21, 27, 10, 17, 9, 7, 19, 15, 17, 9, 16, 11, 14, 9, 17, 541, 36, 18, 25, 39, 276, 830, 69, 119, 29, 307, 83, 75, 59, 296, 43, 80, 52, 106, 17, 166, 85, 96, 101, 75, 48, 136, 51, 32, 51, 30, 83, 36, 27, 30, 30, 302, 111, 87, 86, 70, 40, 25, 50, 115, 71, 90, 183, 42, 42, 389, 18, 124, 39, 31, 54, 66, 116, 37, 62, 104, 94, 27, 84, 133, 34, 71, 111, 539, 75, 118, 574, 43, 529, 77, 196, 102, 50, 15, 82, 28, 222, 97, 222, 190, 61, 25, 111, 62, 122, 68, 66, 132, 70, 117, 103, 97, 92, 41, 160, 52, 86, 85, 109, 64, 79, 74, 65, 15, 198, 101, 64, 262, 71, 292, 45, 94, 51, 61, 65, 55, 91, 453, 525, 26, 54, 75, 172, 97, 67, 75, 100, 185, 30, 77, 47, 93, 67, 72, 148, 156, 89, 102, 52, 131, 117, 93, 48, 94, 97, 49, 114, 139, 97, 99, 129, 36, 43, 67, 99, 73, 83, 111, 105, 123, 141, 174, 207, 192, 228, 233, 94, 214, 262, 189, 184, 80, 158, 98, 132, 64, 95, 277, 57, 164, 328, 165, 142, 64, 42, 139, 29, 149, 147, 97, 29, 91, 272, 203, 280, 56, 99, 120, 107, 89, 90, 38, 240, 38, 93, 68, 122, 206, 83, 202, 199, 46, 114, 80, 94, 46, 49, 143, 129, 34, 90, 112, 128, 128, 92, 68, 125, 70, 77, 85, 31, 126, 65, 90, 54, 81, 62, 94, 27, 61, 109, 29, 33, 42, 28, 24, 79, 44, 51, 79, 71, 91, 126, 81, 51, 329, 104, 71, 243, 114, 149, 103, 311, 50, 19, 58, 73, 14, 112, 69, 30, 72, 180, 66, 32, 58, 166, 81, 244, 120, 39, 65, 96, 39, 89, 73, 55, 226, 161, 75, 72, 44, 49, 121, 106, 42, 137, 122, 58, 55, 34, 99, 161, 113, 91, 58, 74, 143, 78, 40, 201, 111, 44, 168, 42, 99, 125, 129, 70, 76, 134, 176, 95, 62, 122, 108, 91, 100, 72, 154, 75, 157, 70, 60, 208, 97, 31, 76, 55, 212, 108, 60, 172, 90, 151, 47, 129, 99, 48, 100, 112, 110, 74, 109, 76, 52, 104, 57, 78, 61, 42, 41, 69, 81, 114, 88, 83, 73, 151, 51, 42, 70, 71, 92, 60, 71, 212, 101, 106, 63, 86, 53, 51, 38, 44, 64, 37, 46, 32, 46, 203, 254, 55, 37, 26, 46, 58, 52, 43, 79, 92, 119, 82, 97, 70, 73, 127, 66, 290, 226, 66, 53, 63, 56, 25, 51, 62, 76, 319, 79, 196, 109, 346, 233, 207, 691, 135, 54, 134, 62, 82, 74, 63, 102, 34, 38, 198, 63, 48, 25, 70, 55, 37, 23, 28, 87, 229, 38, 63, 45, 51, 32, 99, 35, 69, 45, 42, 93, 34, 97, 26, 46, 49, 131, 34, 54, 220, 91, 26, 38, 23, 31, 109, 50, 68, 45, 218, 503, 21, 57, 38, 84, 26, 61, 33, 52, 72, 54, 50, 28, 79, 101, 88, 123, 33, 174, 100, 189, 76, 149, 310, 43, 26, 67, 75, 42, 80, 108, 35, 85, 81, 85, 53, 49, 68, 66, 80, 133, 107, 106, 75, 91, 66, 116, 138, 66, 62, 72, 102, 62, 53, 58, 77, 37, 34, 21, 94, 110, 41, 28, 25, 123, 126, 45, 63, 110, 88, 28, 101, 72, 108, 235, 25, 25, 24, 53, 26, 24, 70, 125, 156, 226, 264, 34, 35, 129, 42, 50, 67, 52, 81, 31, 54, 63, 22, 47, 44, 39, 54, 99, 72, 70, 60, 71, 60, 77, 52, 906, 75, 80, 92, 63, 40, 35, 44, 83, 52, 47, 57, 82, 104, 99, 59, 60, 115, 117, 126, 67, 123, 197, 81, 132, 33, 69, 41, 27, 88, 78, 87, 102, 106, 301, 48, 125, 334, 268, 89, 54, 51, 37, 71, 163, 48, 170, 68, 31, 42, 42, 119, 47, 59, 95, 27, 117, 145, 151, 189, 93, 431, 71, 397, 108, 136, 98, 148, 59, 81, 104, 87, 173, 126, 132, 122, 20, 122, 72, 175, 134, 70, 30, 77, 52, 30, 182, 48, 48, 364, 71, 93, 170, 49, 221, 74, 97, 144, 165, 126, 95, 219, 406, 122, 75, 63, 244, 109, 53, 67, 100, 112, 137, 88, 179, 55, 60, 62, 35, 317, 461, 111, 254, 253, 213, 258, 76, 96, 41, 168, 199, 148, 142, 45, 232, 39, 68, 31, 1418, 515, 388, 403, 701, 1243, 221, 32, 39, 44, 4, 35, 6, 81, 58, 57, 222, 117, 134, 157, 48, 57, 30, 113, 143, 79, 142, 124, 81, 191, 1896, 1182, 1558, 19, 37, 75, 97, 98, 30, 117, 42, 139, 85, 445, 27, 95, 633, 31, 18, 44, 25, 46, 47, 110, 284, 51, 172, 91, 191, 130, 25, 444, 46, 67, 21, 41, 11, 92, 58, 87, 100, 148, 70, 88, 122, 17, 42, 62, 43, 238, 762, 665, 67, 630, 63, 12, 105, 118, 118, 32, 26, 100, 91, 7, 31, 35, 43, 55, 85, 45, 205, 71, 19, 34, 40, 19, 34, 26, 70, 63, 123, 57, 53, 17, 278, 49, 41, 26, 51, 31, 67, 30, 277, 39, 54, 14, 65, 43, 122, 59, 50, 76, 30, 84, 30, 63, 40, 29, 22, 24, 60, 82, 45, 15, 22, 38, 29, 18, 17, 908, 2739, 77, 37, 74, 292, 98, 95, 389, 9, 51, 82, 145, 108, 38, 36, 35, 63, 799, 79, 73, 157, 92, 40, 81, 15, 97, 89, 109, 152, 221, 29, 28, 36, 27, 65, 81, 20, 25, 89, 25, 265, 229, 199, 35, 116, 31, 16, 101, 75, 35, 76, 41, 68, 41, 34, 89, 548, 142, 56, 25, 52, 52, 227, 111, 24, 26, 69, 162, 75, 47, 107, 374, 334, 55, 222, 62, 71, 175, 45, 27, 134, 96, 145, 52, 116, 474, 38, 43, 182, 136, 239, 110, 131, 60, 33, 72, 66, 280, 329, 285, 147, 7, 247, 32, 79, 42, 61, 117, 62, 24, 70, 30, 55, 115, 75, 97, 190, 105, 22, 138, 31, 74, 218, 118, 143, 19, 246, 53, 152, 68, 92, 49, 52, 91, 8, 81, 37, 74, 50, 34, 131, 49, 36, 199, 17, 133, 272, 25, 170, 34, 72, 12, 93, 1949, 393, 19, 107, 219, 57, 30, 29, 8, 49, 42, 24, 61, 259, 17, 81, 112, 55, 23, 148, 25, 180, 37, 66, 31, 183, 31, 68, 123, 68, 55, 157, 76, 56, 93, 29, 43, 91, 64, 64, 193, 512, 42, 93, 59, 132, 157, 72, 132, 33, 33, 33, 1390, 64, 137, 254, 879, 156, 24, 81, 65, 93, 319, 540, 49, 22, 31, 59, 99, 82, 69, 74, 11, 17, 339, 564, 96, 63, 31, 43, 55, 180, 159, 92, 69, 38, 108, 485, 105, 172, 63, 153, 37, 61, 1519, 79, 19, 85, 33, 54, 206, 120, 171, 86, 103, 90, 50, 59, 86, 42, 92, 193, 28, 49, 194, 146, 33, 274, 89, 551, 30, 256, 52, 318, 51, 48, 117, 43, 77, 63, 84, 135, 223, 529, 215, 102, 51, 192, 66, 33, 81, 279, 714, 573, 136, 55, 22, 236, 129, 65, 68, 88, 81, 22, 597, 720, 104, 60, 78, 23, 29, 19, 116, 12, 64, 7, 10, 18, 20, 29, 47, 35, 48, 54, 61, 70, 84, 58, 76, 83, 93, 97, 115, 128, 138, 18, 97, 80, 115, 14, 21, 60, 69, 79, 133, 67, 98, 99, 83, 107, 20, 72, 86, 127, 57, 27, 21, 49, 53, 32, 41, 43, 94, 80, 53, 46, 54, 179, 24, 47, 52, 136, 57, 87, 78, 107, 64, 81, 87, 56, 67, 107, 95, 72, 159, 169, 32, 98, 11, 47, 152, 26, 8, 19, 19, 54, 20, 52, 92, 53, 56, 315, 133, 141, 59, 148, 96, 92, 163, 92, 94, 112, 132, 15, 47, 160, 70, 37, 63, 106, 51, 92, 168, 132, 49, 90, 62, 69, 71, 23, 48, 47, 115, 24, 27, 33, 93, 87, 100, 35, 38, 45, 52, 137, 90, 67, 113, 74, 81, 55, 55, 62, 66, 75, 92, 53, 48, 238, 32, 53, 49, 263, 4, 4, 4, 115, 95, 122, 78, 33, 131, 50, 86, 90, 93, 103, 236, 384, 106, 48, 138, 109, 74, 40, 270, 69, 43, 238, 103, 59, 98, 67, 98, 58, 35, 132, 94, 23, 64, 52, 155, 6851, 518, 60, 40, 36, 141, 1091, 33, 25, 98, 51, 167, 4, 40, 86, 8, 89, 174, 97, 42, 41, 57, 73, 126, 86, 86, 127, 134, 2894, 46, 70, 158, 222, 76, 39, 40, 86, 135, 97, 8, 52, 27, 25, 329, 49, 144, 58, 87, 76, 227, 76, 234, 110, 50, 155, 120, 212, 125, 22, 17, 276, 136, 49, 7671, 99, 45, 291, 22, 74, 75, 8, 315, 1158, 149, 134, 43, 866, 18, 84, 82, 39, 273, 65, 321]\n"
     ]
    }
   ],
   "source": [
    "print(clean_email_length)"
   ]
  },
  {
   "cell_type": "code",
   "execution_count": 226,
   "metadata": {},
   "outputs": [
    {
     "name": "stdout",
     "output_type": "stream",
     "text": [
      "7671\n"
     ]
    }
   ],
   "source": [
    "print(max(clean_email_length)) #longest email has this many words"
   ]
  },
  {
   "cell_type": "code",
   "execution_count": 230,
   "metadata": {},
   "outputs": [
    {
     "data": {
      "text/plain": [
       "5775"
      ]
     },
     "execution_count": 230,
     "metadata": {},
     "output_type": "execute_result"
    }
   ],
   "source": [
    "np.argmax(clean_email_length) #postion of the longest email"
   ]
  },
  {
   "cell_type": "markdown",
   "metadata": {},
   "source": [
    "## Creating a dataframe with one word in each coloumn"
   ]
  },
  {
   "cell_type": "code",
   "execution_count": 231,
   "metadata": {},
   "outputs": [],
   "source": [
    "word_columns_df=pd.DataFrame.from_records(stemmed_nested_list.tolist())"
   ]
  },
  {
   "cell_type": "code",
   "execution_count": 233,
   "metadata": {},
   "outputs": [
    {
     "data": {
      "text/plain": [
       "(5796, 7671)"
      ]
     },
     "execution_count": 233,
     "metadata": {},
     "output_type": "execute_result"
    }
   ],
   "source": [
    "word_columns_df.shape"
   ]
  },
  {
   "cell_type": "markdown",
   "metadata": {},
   "source": [
    "## Splittin the Data into Training and Test sets"
   ]
  },
  {
   "cell_type": "code",
   "execution_count": 235,
   "metadata": {},
   "outputs": [],
   "source": [
    "X_train, X_test, y_train, y_test = train_test_split(word_columns_df, data.CATEGORY,\n",
    "                                                   test_size=0.3, random_state=42)"
   ]
  },
  {
   "cell_type": "code",
   "execution_count": 236,
   "metadata": {},
   "outputs": [
    {
     "name": "stdout",
     "output_type": "stream",
     "text": [
      "Nr of training samples 4057\n",
      "Fraction of training set 0.6999654934437544\n"
     ]
    }
   ],
   "source": [
    "print('Nr of training samples', X_train.shape[0])\n",
    "print('Fraction of training set', X_train.shape[0] / word_columns_df.shape[0])"
   ]
  },
  {
   "cell_type": "code",
   "execution_count": 237,
   "metadata": {},
   "outputs": [
    {
     "data": {
      "text/html": [
       "<div>\n",
       "<style scoped>\n",
       "    .dataframe tbody tr th:only-of-type {\n",
       "        vertical-align: middle;\n",
       "    }\n",
       "\n",
       "    .dataframe tbody tr th {\n",
       "        vertical-align: top;\n",
       "    }\n",
       "\n",
       "    .dataframe thead th {\n",
       "        text-align: right;\n",
       "    }\n",
       "</style>\n",
       "<table border=\"1\" class=\"dataframe\">\n",
       "  <thead>\n",
       "    <tr style=\"text-align: right;\">\n",
       "      <th></th>\n",
       "      <th>0</th>\n",
       "      <th>1</th>\n",
       "      <th>2</th>\n",
       "      <th>3</th>\n",
       "      <th>4</th>\n",
       "      <th>5</th>\n",
       "      <th>6</th>\n",
       "      <th>7</th>\n",
       "      <th>8</th>\n",
       "      <th>9</th>\n",
       "      <th>...</th>\n",
       "      <th>7661</th>\n",
       "      <th>7662</th>\n",
       "      <th>7663</th>\n",
       "      <th>7664</th>\n",
       "      <th>7665</th>\n",
       "      <th>7666</th>\n",
       "      <th>7667</th>\n",
       "      <th>7668</th>\n",
       "      <th>7669</th>\n",
       "      <th>7670</th>\n",
       "    </tr>\n",
       "    <tr>\n",
       "      <th>DOC_ID</th>\n",
       "      <th></th>\n",
       "      <th></th>\n",
       "      <th></th>\n",
       "      <th></th>\n",
       "      <th></th>\n",
       "      <th></th>\n",
       "      <th></th>\n",
       "      <th></th>\n",
       "      <th></th>\n",
       "      <th></th>\n",
       "      <th></th>\n",
       "      <th></th>\n",
       "      <th></th>\n",
       "      <th></th>\n",
       "      <th></th>\n",
       "      <th></th>\n",
       "      <th></th>\n",
       "      <th></th>\n",
       "      <th></th>\n",
       "      <th></th>\n",
       "      <th></th>\n",
       "    </tr>\n",
       "  </thead>\n",
       "  <tbody>\n",
       "    <tr>\n",
       "      <td>4844</td>\n",
       "      <td>ye</td>\n",
       "      <td>inde</td>\n",
       "      <td>agent</td>\n",
       "      <td>directori</td>\n",
       "      <td>verita</td>\n",
       "      <td>cd</td>\n",
       "      <td>unix</td>\n",
       "      <td>subdirectori</td>\n",
       "      <td>file</td>\n",
       "      <td>call</td>\n",
       "      <td>...</td>\n",
       "      <td>None</td>\n",
       "      <td>None</td>\n",
       "      <td>None</td>\n",
       "      <td>None</td>\n",
       "      <td>None</td>\n",
       "      <td>None</td>\n",
       "      <td>None</td>\n",
       "      <td>None</td>\n",
       "      <td>None</td>\n",
       "      <td>None</td>\n",
       "    </tr>\n",
       "    <tr>\n",
       "      <td>4727</td>\n",
       "      <td>problem</td>\n",
       "      <td>come</td>\n",
       "      <td>tri</td>\n",
       "      <td>instal</td>\n",
       "      <td>harddissssk</td>\n",
       "      <td>like</td>\n",
       "      <td>alreadi</td>\n",
       "      <td>mount</td>\n",
       "      <td>http</td>\n",
       "      <td>yahoo</td>\n",
       "      <td>...</td>\n",
       "      <td>None</td>\n",
       "      <td>None</td>\n",
       "      <td>None</td>\n",
       "      <td>None</td>\n",
       "      <td>None</td>\n",
       "      <td>None</td>\n",
       "      <td>None</td>\n",
       "      <td>None</td>\n",
       "      <td>None</td>\n",
       "      <td>None</td>\n",
       "    </tr>\n",
       "    <tr>\n",
       "      <td>5022</td>\n",
       "      <td>origin</td>\n",
       "      <td>messag</td>\n",
       "      <td>date</td>\n",
       "      <td>mon</td>\n",
       "      <td>aug</td>\n",
       "      <td>chad</td>\n",
       "      <td>norwood</td>\n",
       "      <td>sven</td>\n",
       "      <td>cc</td>\n",
       "      <td>subject</td>\n",
       "      <td>...</td>\n",
       "      <td>None</td>\n",
       "      <td>None</td>\n",
       "      <td>None</td>\n",
       "      <td>None</td>\n",
       "      <td>None</td>\n",
       "      <td>None</td>\n",
       "      <td>None</td>\n",
       "      <td>None</td>\n",
       "      <td>None</td>\n",
       "      <td>None</td>\n",
       "    </tr>\n",
       "    <tr>\n",
       "      <td>3504</td>\n",
       "      <td>inlin</td>\n",
       "      <td>folk</td>\n",
       "      <td>sever</td>\n",
       "      <td>major</td>\n",
       "      <td>internet</td>\n",
       "      <td>outag</td>\n",
       "      <td>morn</td>\n",
       "      <td>across</td>\n",
       "      <td>major</td>\n",
       "      <td>provid</td>\n",
       "      <td>...</td>\n",
       "      <td>None</td>\n",
       "      <td>None</td>\n",
       "      <td>None</td>\n",
       "      <td>None</td>\n",
       "      <td>None</td>\n",
       "      <td>None</td>\n",
       "      <td>None</td>\n",
       "      <td>None</td>\n",
       "      <td>None</td>\n",
       "      <td>None</td>\n",
       "    </tr>\n",
       "    <tr>\n",
       "      <td>3921</td>\n",
       "      <td>url</td>\n",
       "      <td>http</td>\n",
       "      <td>date</td>\n",
       "      <td>bath</td>\n",
       "      <td>chronicl</td>\n",
       "      <td>None</td>\n",
       "      <td>None</td>\n",
       "      <td>None</td>\n",
       "      <td>None</td>\n",
       "      <td>None</td>\n",
       "      <td>...</td>\n",
       "      <td>None</td>\n",
       "      <td>None</td>\n",
       "      <td>None</td>\n",
       "      <td>None</td>\n",
       "      <td>None</td>\n",
       "      <td>None</td>\n",
       "      <td>None</td>\n",
       "      <td>None</td>\n",
       "      <td>None</td>\n",
       "      <td>None</td>\n",
       "    </tr>\n",
       "  </tbody>\n",
       "</table>\n",
       "<p>5 rows × 7671 columns</p>\n",
       "</div>"
      ],
      "text/plain": [
       "           0       1      2          3            4      5        6     \\\n",
       "DOC_ID                                                                   \n",
       "4844         ye    inde  agent  directori       verita     cd     unix   \n",
       "4727    problem    come    tri     instal  harddissssk   like  alreadi   \n",
       "5022     origin  messag   date        mon          aug   chad  norwood   \n",
       "3504      inlin    folk  sever      major     internet  outag     morn   \n",
       "3921        url    http   date       bath     chronicl   None     None   \n",
       "\n",
       "                7      8        9     ...  7661  7662  7663  7664  7665  7666  \\\n",
       "DOC_ID                                ...                                       \n",
       "4844    subdirectori   file     call  ...  None  None  None  None  None  None   \n",
       "4727           mount   http    yahoo  ...  None  None  None  None  None  None   \n",
       "5022            sven     cc  subject  ...  None  None  None  None  None  None   \n",
       "3504          across  major   provid  ...  None  None  None  None  None  None   \n",
       "3921            None   None     None  ...  None  None  None  None  None  None   \n",
       "\n",
       "        7667  7668  7669  7670  \n",
       "DOC_ID                          \n",
       "4844    None  None  None  None  \n",
       "4727    None  None  None  None  \n",
       "5022    None  None  None  None  \n",
       "3504    None  None  None  None  \n",
       "3921    None  None  None  None  \n",
       "\n",
       "[5 rows x 7671 columns]"
      ]
     },
     "execution_count": 237,
     "metadata": {},
     "output_type": "execute_result"
    }
   ],
   "source": [
    "X_train.index.name = X_test.index.name = 'DOC_ID'\n",
    "X_train.head()"
   ]
  },
  {
   "cell_type": "code",
   "execution_count": 239,
   "metadata": {},
   "outputs": [
    {
     "data": {
      "text/plain": [
       "DOC_ID\n",
       "4844    0\n",
       "4727    0\n",
       "5022    0\n",
       "3504    0\n",
       "3921    0\n",
       "Name: CATEGORY, dtype: int64"
      ]
     },
     "execution_count": 239,
     "metadata": {},
     "output_type": "execute_result"
    }
   ],
   "source": [
    "y_train.head()"
   ]
  },
  {
   "cell_type": "markdown",
   "metadata": {},
   "source": [
    "### Create a Sparse Matrix for the Training Data"
   ]
  },
  {
   "cell_type": "code",
   "execution_count": 240,
   "metadata": {},
   "outputs": [
    {
     "data": {
      "text/plain": [
       "str"
      ]
     },
     "execution_count": 240,
     "metadata": {},
     "output_type": "execute_result"
    }
   ],
   "source": [
    "word_index = pd.Index(vocab.VOCAB_WORD)\n",
    "type(word_index[3])"
   ]
  },
  {
   "cell_type": "code",
   "execution_count": 241,
   "metadata": {},
   "outputs": [
    {
     "data": {
      "text/plain": [
       "494"
      ]
     },
     "execution_count": 241,
     "metadata": {},
     "output_type": "execute_result"
    }
   ],
   "source": [
    "word_index.get_loc('jul')"
   ]
  },
  {
   "cell_type": "code",
   "execution_count": 242,
   "metadata": {},
   "outputs": [],
   "source": [
    "def make_sparse_matrix(df, indexed_words, labels):\n",
    "   \n",
    "    \n",
    "    nr_rows = df.shape[0]\n",
    "    nr_cols = df.shape[1]\n",
    "    word_set = set(indexed_words)\n",
    "    dict_list = []\n",
    "    for i in range(nr_rows):\n",
    "        for j in range(nr_cols):\n",
    "            \n",
    "            word = df.iat[i, j]\n",
    "            if word in word_set:\n",
    "                doc_id = df.index[i]\n",
    "                word_id = indexed_words.get_loc(word)\n",
    "                category = labels.at[doc_id]\n",
    "                item = {'LABEL': category, 'DOC_ID': doc_id,\n",
    "                       'OCCURENCE': 1, 'WORD_ID': word_id}\n",
    "                \n",
    "                dict_list.append(item)\n",
    "    \n",
    "    return pd.DataFrame(dict_list)"
   ]
  },
  {
   "cell_type": "code",
   "execution_count": 243,
   "metadata": {},
   "outputs": [],
   "source": [
    "sparse_train_df = make_sparse_matrix(X_train, word_index, y_train)"
   ]
  },
  {
   "cell_type": "code",
   "execution_count": 244,
   "metadata": {},
   "outputs": [
    {
     "data": {
      "text/html": [
       "<div>\n",
       "<style scoped>\n",
       "    .dataframe tbody tr th:only-of-type {\n",
       "        vertical-align: middle;\n",
       "    }\n",
       "\n",
       "    .dataframe tbody tr th {\n",
       "        vertical-align: top;\n",
       "    }\n",
       "\n",
       "    .dataframe thead th {\n",
       "        text-align: right;\n",
       "    }\n",
       "</style>\n",
       "<table border=\"1\" class=\"dataframe\">\n",
       "  <thead>\n",
       "    <tr style=\"text-align: right;\">\n",
       "      <th></th>\n",
       "      <th>LABEL</th>\n",
       "      <th>DOC_ID</th>\n",
       "      <th>OCCURENCE</th>\n",
       "      <th>WORD_ID</th>\n",
       "    </tr>\n",
       "  </thead>\n",
       "  <tbody>\n",
       "    <tr>\n",
       "      <td>0</td>\n",
       "      <td>0</td>\n",
       "      <td>4844</td>\n",
       "      <td>1</td>\n",
       "      <td>266</td>\n",
       "    </tr>\n",
       "    <tr>\n",
       "      <td>1</td>\n",
       "      <td>0</td>\n",
       "      <td>4844</td>\n",
       "      <td>1</td>\n",
       "      <td>1259</td>\n",
       "    </tr>\n",
       "    <tr>\n",
       "      <td>2</td>\n",
       "      <td>0</td>\n",
       "      <td>4844</td>\n",
       "      <td>1</td>\n",
       "      <td>509</td>\n",
       "    </tr>\n",
       "    <tr>\n",
       "      <td>3</td>\n",
       "      <td>0</td>\n",
       "      <td>4844</td>\n",
       "      <td>1</td>\n",
       "      <td>310</td>\n",
       "    </tr>\n",
       "    <tr>\n",
       "      <td>4</td>\n",
       "      <td>0</td>\n",
       "      <td>4844</td>\n",
       "      <td>1</td>\n",
       "      <td>254</td>\n",
       "    </tr>\n",
       "  </tbody>\n",
       "</table>\n",
       "</div>"
      ],
      "text/plain": [
       "   LABEL  DOC_ID  OCCURENCE  WORD_ID\n",
       "0      0    4844          1      266\n",
       "1      0    4844          1     1259\n",
       "2      0    4844          1      509\n",
       "3      0    4844          1      310\n",
       "4      0    4844          1      254"
      ]
     },
     "execution_count": 244,
     "metadata": {},
     "output_type": "execute_result"
    }
   ],
   "source": [
    "sparse_train_df[:5]"
   ]
  },
  {
   "cell_type": "code",
   "execution_count": 245,
   "metadata": {},
   "outputs": [
    {
     "data": {
      "text/html": [
       "<div>\n",
       "<style scoped>\n",
       "    .dataframe tbody tr th:only-of-type {\n",
       "        vertical-align: middle;\n",
       "    }\n",
       "\n",
       "    .dataframe tbody tr th {\n",
       "        vertical-align: top;\n",
       "    }\n",
       "\n",
       "    .dataframe thead th {\n",
       "        text-align: right;\n",
       "    }\n",
       "</style>\n",
       "<table border=\"1\" class=\"dataframe\">\n",
       "  <thead>\n",
       "    <tr style=\"text-align: right;\">\n",
       "      <th></th>\n",
       "      <th>LABEL</th>\n",
       "      <th>DOC_ID</th>\n",
       "      <th>OCCURENCE</th>\n",
       "      <th>WORD_ID</th>\n",
       "    </tr>\n",
       "  </thead>\n",
       "  <tbody>\n",
       "    <tr>\n",
       "      <td>430978</td>\n",
       "      <td>1</td>\n",
       "      <td>860</td>\n",
       "      <td>1</td>\n",
       "      <td>47</td>\n",
       "    </tr>\n",
       "    <tr>\n",
       "      <td>430979</td>\n",
       "      <td>1</td>\n",
       "      <td>860</td>\n",
       "      <td>1</td>\n",
       "      <td>1438</td>\n",
       "    </tr>\n",
       "    <tr>\n",
       "      <td>430980</td>\n",
       "      <td>1</td>\n",
       "      <td>860</td>\n",
       "      <td>1</td>\n",
       "      <td>26</td>\n",
       "    </tr>\n",
       "    <tr>\n",
       "      <td>430981</td>\n",
       "      <td>1</td>\n",
       "      <td>860</td>\n",
       "      <td>1</td>\n",
       "      <td>19</td>\n",
       "    </tr>\n",
       "    <tr>\n",
       "      <td>430982</td>\n",
       "      <td>1</td>\n",
       "      <td>860</td>\n",
       "      <td>1</td>\n",
       "      <td>126</td>\n",
       "    </tr>\n",
       "  </tbody>\n",
       "</table>\n",
       "</div>"
      ],
      "text/plain": [
       "        LABEL  DOC_ID  OCCURENCE  WORD_ID\n",
       "430978      1     860          1       47\n",
       "430979      1     860          1     1438\n",
       "430980      1     860          1       26\n",
       "430981      1     860          1       19\n",
       "430982      1     860          1      126"
      ]
     },
     "execution_count": 245,
     "metadata": {},
     "output_type": "execute_result"
    }
   ],
   "source": [
    "sparse_train_df[-5:]"
   ]
  },
  {
   "cell_type": "markdown",
   "metadata": {},
   "source": [
    "## Combine Occurances with the Panda groupby()"
   ]
  },
  {
   "cell_type": "code",
   "execution_count": 246,
   "metadata": {},
   "outputs": [
    {
     "data": {
      "text/html": [
       "<div>\n",
       "<style scoped>\n",
       "    .dataframe tbody tr th:only-of-type {\n",
       "        vertical-align: middle;\n",
       "    }\n",
       "\n",
       "    .dataframe tbody tr th {\n",
       "        vertical-align: top;\n",
       "    }\n",
       "\n",
       "    .dataframe thead th {\n",
       "        text-align: right;\n",
       "    }\n",
       "</style>\n",
       "<table border=\"1\" class=\"dataframe\">\n",
       "  <thead>\n",
       "    <tr style=\"text-align: right;\">\n",
       "      <th></th>\n",
       "      <th></th>\n",
       "      <th></th>\n",
       "      <th>OCCURENCE</th>\n",
       "    </tr>\n",
       "    <tr>\n",
       "      <th>DOC_ID</th>\n",
       "      <th>WORD_ID</th>\n",
       "      <th>LABEL</th>\n",
       "      <th></th>\n",
       "    </tr>\n",
       "  </thead>\n",
       "  <tbody>\n",
       "    <tr>\n",
       "      <td rowspan=\"5\" valign=\"top\">0</td>\n",
       "      <td>2</td>\n",
       "      <td>1</td>\n",
       "      <td>1</td>\n",
       "    </tr>\n",
       "    <tr>\n",
       "      <td>3</td>\n",
       "      <td>1</td>\n",
       "      <td>2</td>\n",
       "    </tr>\n",
       "    <tr>\n",
       "      <td>4</td>\n",
       "      <td>1</td>\n",
       "      <td>1</td>\n",
       "    </tr>\n",
       "    <tr>\n",
       "      <td>7</td>\n",
       "      <td>1</td>\n",
       "      <td>3</td>\n",
       "    </tr>\n",
       "    <tr>\n",
       "      <td>11</td>\n",
       "      <td>1</td>\n",
       "      <td>1</td>\n",
       "    </tr>\n",
       "  </tbody>\n",
       "</table>\n",
       "</div>"
      ],
      "text/plain": [
       "                      OCCURENCE\n",
       "DOC_ID WORD_ID LABEL           \n",
       "0      2       1              1\n",
       "       3       1              2\n",
       "       4       1              1\n",
       "       7       1              3\n",
       "       11      1              1"
      ]
     },
     "execution_count": 246,
     "metadata": {},
     "output_type": "execute_result"
    }
   ],
   "source": [
    "train_grouped = sparse_train_df.groupby(['DOC_ID', 'WORD_ID', 'LABEL']).sum()\n",
    "train_grouped.head()"
   ]
  },
  {
   "cell_type": "code",
   "execution_count": 247,
   "metadata": {},
   "outputs": [
    {
     "data": {
      "text/plain": [
       "'physic'"
      ]
     },
     "execution_count": 247,
     "metadata": {},
     "output_type": "execute_result"
    }
   ],
   "source": [
    "vocab.at[1234,'VOCAB_WORD']"
   ]
  },
  {
   "cell_type": "code",
   "execution_count": 248,
   "metadata": {},
   "outputs": [
    {
     "data": {
      "text/html": [
       "<div>\n",
       "<style scoped>\n",
       "    .dataframe tbody tr th:only-of-type {\n",
       "        vertical-align: middle;\n",
       "    }\n",
       "\n",
       "    .dataframe tbody tr th {\n",
       "        vertical-align: top;\n",
       "    }\n",
       "\n",
       "    .dataframe thead th {\n",
       "        text-align: right;\n",
       "    }\n",
       "</style>\n",
       "<table border=\"1\" class=\"dataframe\">\n",
       "  <thead>\n",
       "    <tr style=\"text-align: right;\">\n",
       "      <th></th>\n",
       "      <th>DOC_ID</th>\n",
       "      <th>WORD_ID</th>\n",
       "      <th>LABEL</th>\n",
       "      <th>OCCURENCE</th>\n",
       "    </tr>\n",
       "  </thead>\n",
       "  <tbody>\n",
       "    <tr>\n",
       "      <td>0</td>\n",
       "      <td>0</td>\n",
       "      <td>2</td>\n",
       "      <td>1</td>\n",
       "      <td>1</td>\n",
       "    </tr>\n",
       "    <tr>\n",
       "      <td>1</td>\n",
       "      <td>0</td>\n",
       "      <td>3</td>\n",
       "      <td>1</td>\n",
       "      <td>2</td>\n",
       "    </tr>\n",
       "    <tr>\n",
       "      <td>2</td>\n",
       "      <td>0</td>\n",
       "      <td>4</td>\n",
       "      <td>1</td>\n",
       "      <td>1</td>\n",
       "    </tr>\n",
       "    <tr>\n",
       "      <td>3</td>\n",
       "      <td>0</td>\n",
       "      <td>7</td>\n",
       "      <td>1</td>\n",
       "      <td>3</td>\n",
       "    </tr>\n",
       "    <tr>\n",
       "      <td>4</td>\n",
       "      <td>0</td>\n",
       "      <td>11</td>\n",
       "      <td>1</td>\n",
       "      <td>1</td>\n",
       "    </tr>\n",
       "  </tbody>\n",
       "</table>\n",
       "</div>"
      ],
      "text/plain": [
       "   DOC_ID  WORD_ID  LABEL  OCCURENCE\n",
       "0       0        2      1          1\n",
       "1       0        3      1          2\n",
       "2       0        4      1          1\n",
       "3       0        7      1          3\n",
       "4       0       11      1          1"
      ]
     },
     "execution_count": 248,
     "metadata": {},
     "output_type": "execute_result"
    }
   ],
   "source": [
    "train_grouped = train_grouped.reset_index()\n",
    "train_grouped.head()"
   ]
  },
  {
   "cell_type": "code",
   "execution_count": 249,
   "metadata": {},
   "outputs": [
    {
     "data": {
      "text/plain": [
       "(258333, 4)"
      ]
     },
     "execution_count": 249,
     "metadata": {},
     "output_type": "execute_result"
    }
   ],
   "source": [
    "train_grouped.shape"
   ]
  },
  {
   "cell_type": "markdown",
   "metadata": {},
   "source": [
    "## Saving Training Data"
   ]
  },
  {
   "cell_type": "code",
   "execution_count": 252,
   "metadata": {},
   "outputs": [],
   "source": [
    "np.savetxt(TRAINING_DATA_FILE, train_grouped, fmt='%d')"
   ]
  },
  {
   "cell_type": "code",
   "execution_count": 253,
   "metadata": {},
   "outputs": [
    {
     "data": {
      "text/plain": [
       "(1739, 7671)"
      ]
     },
     "execution_count": 253,
     "metadata": {},
     "output_type": "execute_result"
    }
   ],
   "source": [
    "X_test.shape"
   ]
  },
  {
   "cell_type": "code",
   "execution_count": 254,
   "metadata": {},
   "outputs": [],
   "source": [
    "spare_test_df= make_sparse_matrix(X_test,word_index,y_test)"
   ]
  },
  {
   "cell_type": "code",
   "execution_count": 255,
   "metadata": {},
   "outputs": [
    {
     "data": {
      "text/plain": [
       "(203150, 4)"
      ]
     },
     "execution_count": 255,
     "metadata": {},
     "output_type": "execute_result"
    }
   ],
   "source": [
    "spare_test_df.shape"
   ]
  },
  {
   "cell_type": "code",
   "execution_count": 257,
   "metadata": {},
   "outputs": [
    {
     "data": {
      "text/html": [
       "<div>\n",
       "<style scoped>\n",
       "    .dataframe tbody tr th:only-of-type {\n",
       "        vertical-align: middle;\n",
       "    }\n",
       "\n",
       "    .dataframe tbody tr th {\n",
       "        vertical-align: top;\n",
       "    }\n",
       "\n",
       "    .dataframe thead th {\n",
       "        text-align: right;\n",
       "    }\n",
       "</style>\n",
       "<table border=\"1\" class=\"dataframe\">\n",
       "  <thead>\n",
       "    <tr style=\"text-align: right;\">\n",
       "      <th></th>\n",
       "      <th>DOC_ID</th>\n",
       "      <th>WORD_ID</th>\n",
       "      <th>LABEL</th>\n",
       "      <th>OCCURENCE</th>\n",
       "    </tr>\n",
       "  </thead>\n",
       "  <tbody>\n",
       "    <tr>\n",
       "      <td>0</td>\n",
       "      <td>8</td>\n",
       "      <td>2</td>\n",
       "      <td>1</td>\n",
       "      <td>1</td>\n",
       "    </tr>\n",
       "    <tr>\n",
       "      <td>1</td>\n",
       "      <td>8</td>\n",
       "      <td>3</td>\n",
       "      <td>1</td>\n",
       "      <td>4</td>\n",
       "    </tr>\n",
       "    <tr>\n",
       "      <td>2</td>\n",
       "      <td>8</td>\n",
       "      <td>4</td>\n",
       "      <td>1</td>\n",
       "      <td>2</td>\n",
       "    </tr>\n",
       "    <tr>\n",
       "      <td>3</td>\n",
       "      <td>8</td>\n",
       "      <td>5</td>\n",
       "      <td>1</td>\n",
       "      <td>1</td>\n",
       "    </tr>\n",
       "    <tr>\n",
       "      <td>4</td>\n",
       "      <td>8</td>\n",
       "      <td>6</td>\n",
       "      <td>1</td>\n",
       "      <td>2</td>\n",
       "    </tr>\n",
       "  </tbody>\n",
       "</table>\n",
       "</div>"
      ],
      "text/plain": [
       "   DOC_ID  WORD_ID  LABEL  OCCURENCE\n",
       "0       8        2      1          1\n",
       "1       8        3      1          4\n",
       "2       8        4      1          2\n",
       "3       8        5      1          1\n",
       "4       8        6      1          2"
      ]
     },
     "execution_count": 257,
     "metadata": {},
     "output_type": "execute_result"
    }
   ],
   "source": [
    "test_grouped = spare_test_df.groupby(['DOC_ID', 'WORD_ID', 'LABEL']).sum().reset_index()\n",
    "test_grouped.head()"
   ]
  },
  {
   "cell_type": "code",
   "execution_count": 259,
   "metadata": {},
   "outputs": [],
   "source": [
    "np.savetxt(TEST_DATA_FILE, test_grouped, fmt='%d')"
   ]
  },
  {
   "cell_type": "code",
   "execution_count": null,
   "metadata": {},
   "outputs": [],
   "source": []
  },
  {
   "cell_type": "markdown",
   "metadata": {},
   "source": [
    "# Checking my understanding"
   ]
  },
  {
   "cell_type": "code",
   "execution_count": 260,
   "metadata": {},
   "outputs": [],
   "source": [
    "train_doc_ids = set(train_grouped.DOC_ID)\n",
    "test_doc_ids = set(test_grouped.DOC_ID)"
   ]
  },
  {
   "cell_type": "code",
   "execution_count": 261,
   "metadata": {},
   "outputs": [
    {
     "data": {
      "text/plain": [
       "1724"
      ]
     },
     "execution_count": 261,
     "metadata": {},
     "output_type": "execute_result"
    }
   ],
   "source": [
    "len(test_doc_ids)"
   ]
  },
  {
   "cell_type": "code",
   "execution_count": 262,
   "metadata": {},
   "outputs": [
    {
     "data": {
      "text/plain": [
       "1739"
      ]
     },
     "execution_count": 262,
     "metadata": {},
     "output_type": "execute_result"
    }
   ],
   "source": [
    "len(X_test)"
   ]
  },
  {
   "cell_type": "code",
   "execution_count": 263,
   "metadata": {},
   "outputs": [
    {
     "data": {
      "text/plain": [
       "{134, 179, 240, 274, 298, 339, 439, 471, 670, 734, 765, 945, 1544, 1670, 1700}"
      ]
     },
     "execution_count": 263,
     "metadata": {},
     "output_type": "execute_result"
    }
   ],
   "source": [
    "set(X_test.index.values) - test_doc_ids"
   ]
  },
  {
   "cell_type": "code",
   "execution_count": 267,
   "metadata": {},
   "outputs": [
    {
     "data": {
      "text/plain": [
       "'------=_NextPart_000_00A2_25A50A3E.D1003C25\\n\\nContent-Type: text/html; charset=\"iso-8859-1\"\\n\\nContent-Transfer-Encoding: base64\\n\\n\\n\\n\\n\\nPEhUTUw+DQo8SEVBRD4NCiAgIA0KICAgPFRJVExFPk1hcnJpZWQgQnV0IExv\\n\\nbmVseTwvVElUTEU+DQo8L0hFQUQ+DQo8Qk9EWSBCR0NPTE9SPSIjRkZGRkZG\\n\\nIiBMSU5LPSIjRkYwMDAwIiBWTElOSz0iI0ZGMDAwMCIgQUxJTks9IiNGRjAw\\n\\nMDAiPg0KDQo8UCBBTElHTj0iY2VudGVyIj4gPElNRyBCT1JERVI9IjAiIFNS\\n\\nQz0iaHR0cDovL3d3dy5wYWdlNGxpZmUub3JnL3VzZXJzL3h4eGRhdGluZy9t\\n\\nYXJyaWVkYW5kbG9uZWx5L2ltYWdlcy9sb2dvLmpwZyIgV0lEVEg9IjUwMCIg\\n\\nSEVJR0hUPSIxOTEiPiZuYnNwOyAmbmJzcDsgPC9QPg0KPENFTlRFUj4NCiAg\\n\\nPFRBQkxFIENFTExTUEFDSU5HPTUgQ0VMTFBBRERJTkc9NSBCR0NPTE9SPSIj\\n\\nNjY2Njk5IiA+DQogICAgPFRSPg0KPFREPjxJTUcgU1JDPSJodHRwOi8vd3d3\\n\\nLnBhZ2U0bGlmZS5vcmcvdXNlcnMveHh4ZGF0aW5nL21hcnJpZWRhbmRsb25l\\n\\nbHkvcDcwNi5qcGciIEJPUkRFUj0wIEhFSUdIVD0xODAgV0lEVEg9MTIwPjwv\\n\\nVEQ+DQoNCjxURD48SU1HIFNSQz0iaHR0cDovL3d3dy5wYWdlNGxpZmUub3Jn\\n\\nL3VzZXJzL3h4eGRhdGluZy9tYXJyaWVkYW5kbG9uZWx5L3A3MDQuanBnIiBC\\n\\nT1JERVI9MCBIRUlHSFQ9MTgwIFdJRFRIPTEyMD48L1REPg0KDQo8VEQ+PElN\\n\\nRyBTUkM9Imh0dHA6Ly93d3cucGFnZTRsaWZlLm9yZy91c2Vycy94eHhkYXRp\\n\\nbmcvbWFycmllZGFuZGxvbmVseS9wNzA1LmpwZyIgQk9SREVSPTAgSEVJR0hU\\n\\nPTE4MCBXSURUSD0xMjA+PC9URD4NCg0KPFREPjxJTUcgU1JDPSJodHRwOi8v\\n\\nd3d3LnBhZ2U0bGlmZS5vcmcvdXNlcnMveHh4ZGF0aW5nL21hcnJpZWRhbmRs\\n\\nb25lbHkvcDExOTliLmdpZiIgQk9SREVSPTAgSEVJR0hUPTE4MCBXSURUSD0x\\n\\nMjA+PC9URD4NCjwvVFI+DQo8L1RBQkxFPjwvQ0VOVEVSPg0KDQo8QlI+Jm5i\\n\\nc3A7DQo8Q0VOVEVSPjxUQUJMRSBDT0xTPTEgV0lEVEg9IjUwMCIgSEVJR0hU\\n\\nPSI2MDAiID4NCjxUUj4NCjxURD48Rk9OVCBDT0xPUj0iI0ZGNjY2NiI+PEEg\\n\\nSFJFRj0iaHR0cDovL3d3dy5wYWdlNGxpZmUub3JnL3VzZXJzL3h4eGRhdGlu\\n\\nZy9tYXJyaWVkYW5kbG9uZWx5L3ByZXZpZXcuaHRtIj5FTlRFUg0KVEhFIFdP\\n\\nUkxEIEZBTU9VUzwvQT4gPC9GT05UPjxGT05UIFNJWkU9IjYiIENPTE9SPSIj\\n\\nRkYwMEZGIj5NYXJyaWVkIEJ1dCBMb25lbHk8L0ZPTlQ+PEI+PEk+PEZPTlQg\\n\\nQ09MT1I9IiNGRjAwRkYiIFNJWkU9IjUiPiE8L0ZPTlQ+PC9JPjwvQj48Rk9O\\n\\nVCBDT0xPUj0iI0ZGMDBGRiI+DQo8L0ZPTlQ+DQo8VUw+DQo8TEk+DQpBIHdv\\n\\ncmxkd2lkZSBub24tcHJvZml0IG9yZ2FuaXphdGlvbiBmb3VuZGVkIGFuZCBt\\n\\nYW5hZ2VkIGV4Y2x1c2l2ZWx5IGJ5DQp3b21lbjwvTEk+DQoNCjxMST4NCkZl\\n\\nYXR1cmluZyBvbmx5IFJFQUwgYXR0YWNoZWQgd29tZW4gaW4gc2VhcmNoIG9m\\n\\nIFJFQUwgU2V4IE9uIFRoZSBTaWRlIG5hdGlvbndpZGUNCmFuZCBpbiAyMCBj\\n\\nb3VudHJpZXM8L0xJPg0KDQo8TEk+DQpCYXNlZCBpbiBMb3MgQW5nZWxlcywg\\n\\nQ2FsaWZvcm5pYTogVGhlIFdvcmxkIENhcGl0YWwgZm9yIFNleCBPbiBUaGUg\\n\\nU2lkZSZuYnNwOzwvTEk+DQo8L1VMPg0KPEZPTlQgQ09MT1I9IiNGRjAwMDAi\\n\\nPkZBQ1Q6PC9GT05UPg0KPFVMPg0KPExJPg0KT3ZlciAyNyBNaWxsaW9uIHZp\\n\\nc2l0b3JzIGluIGxlc3MgdGhhbiAyIHllYXJzIHdpdGhvdXQgYW55IGNvbW1l\\n\\ncmNpYWwgYWR2ZXJ0aXNpbmcNCm1lYW5zLiAiVGhlIHdvcmQgc3ByZWFkcyBm\\n\\nYXN0Ii48L0xJPg0KPC9VTD4NCiZuYnNwOzxGT05UIENPTE9SPSIjRkYwMDAw\\n\\nIj5MRUdBTCBOT1RJQ0U8L0ZPTlQ+DQo8VUw+DQo8TEk+DQpUaGlzIHNpdGUg\\n\\nY29udGFpbnMgYWR1bHQgb3JpZW50ZWQgbWF0ZXJpYWwuIElmIHlvdSBmaW5k\\n\\nIHRoaXMgbWF0ZXJpYWwgdG8NCmJlIG9mZmVuc2l2ZSBvciBhcmUgdW5kZXIg\\n\\ndGhlIGFnZSBvZiAxOCB5ZWFycyAob3IgMjEgeWVhcnMgZGVwZW5kaW5nIG9u\\n\\nDQpsb2NhbCBsYXdzKSwgb3IgaXQgaXMgaWxsZWdhbCB3aGVyZSB5b3UgYXJl\\n\\nLCB0aGVuIHlvdSBtdXN0IExFQVZFIHRoaXMgc2l0ZQ0KTk9XISZuYnNwOzwv\\n\\nTEk+DQoNCjxMST4NCkJ5IGVudGVyaW5nIHRoaXMgc2l0ZSB5b3UgZGVjbGFy\\n\\nZSB1bmRlciBwZW5hbHR5IG9mIHBlcmp1cnkgdGhhdCB5b3UgYXJlDQphYm92\\n\\nZSB0aGUgYWdlIGxpbWl0IGFuZCBkbyBub3QgZmluZCB0aGlzIG1hdGVyaWFs\\n\\nIG9mZmVuc2l2ZS4gWW91IHdpbGwgYWxzbw0Kbm90IGhvbGQgdXMgbGlhYmxl\\n\\nIGZvciBhbnkgZGFtYWdlcyBvciBwZXJzb25hbCBkaXNjb21mb3J0LiZuYnNw\\n\\nOzwvTEk+DQoNCjxMST4NCkkgYW0gYW4gYWR1bHQgb3ZlciB0aGUgYWdlIG9m\\n\\nIDE4IHllYXJzIChvciAyMSB5ZWFycyBkZXBlbmRpbmcgb24gbG9jYWwNCmdv\\n\\ndmVybmluZyBsYXdzIHJlbGF0aW5nIHRvIGV4cGxpY2l0IHNleHVhbCBtYXRl\\n\\ncmlhbCkuPC9MST4NCg0KPExJPg0KSSB3aWxsIG5vdCBhbGxvdyBhbnlvbmUg\\n\\ndW5kZXIgdGhlIGxlZ2FsIGFnZSB3aGljaCBpcyBkZXRlcm1pbmVkIGFzIGFi\\n\\nb3ZlDQp0byBoYXZlIGFjY2VzcyB0byBhbnkgb2YgdGhlIG1hdGVyaWFscyBj\\n\\nb250YWluZWQgd2l0aGluIHRoaXMgc2l0ZS48L0xJPg0KDQo8TEk+DQpJIGFt\\n\\nIHZvbHVudGFyaWx5IGNvbnRpbnVpbmcgb24gd2l0aCB0aGlzIHNpdGUsIEkg\\n\\ndW5kZXJzdGFuZCBJIHdpbGwgYmUgZXhwb3NlZA0KdG8gc2V4dWFsbHkgZXhw\\n\\nbGljaXQgbWF0ZXJpYWwgaW5jbHVkaW5nIHBpY3R1cmVzLCBzdG9yaWVzICwg\\n\\ndmlkZW9zIGFuZA0KZ3JhcGhpY3MuPC9MST4NCg0KPExJPg0KSSB3aWxsIG5v\\n\\ndCBob2xkIHlvdSByZXNwb25zaWJsZSBmb3IgYW55IGRhbWFnZXMgb3Igdmlv\\n\\nbGF0aW9ucyB0aGF0IHlvdQ0KbWF5IGhhdmUgY2F1c2VkLjwvTEk+DQo8L1VM\\n\\nPg0KDQo8Q0VOVEVSPg0KPFA+PEJSPjxCPjxGT05UIFNJWkU9Nz48QSBIUkVG\\n\\nPSJodHRwOi8vd3d3LnBhZ2U0bGlmZS5vcmcvdXNlcnMveHh4ZGF0aW5nL21h\\n\\ncnJpZWRhbmRsb25lbHkvcHJldmlldy5odG0iPkVOVEVSDQpTSVRFPC9BPjwv\\n\\nRk9OVD48L0I+PC9DRU5URVI+DQo8L1REPg0KPC9UUj4NCjwvVEFCTEU+PC9D\\n\\nRU5URVI+DQoNCjxQIEFMSUdOPSJjZW50ZXIiPiZuYnNwOzwvUD4NCg0KPC9C\\n\\nT0RZPg0KPC9IVE1MPg0KODIxNmpSRVg5LTc4NXZGako1N2wxOA==\\n\\n\\n\\n\\n'"
      ]
     },
     "execution_count": 267,
     "metadata": {},
     "output_type": "execute_result"
    }
   ],
   "source": [
    "data.MESSAGE[1700]"
   ]
  },
  {
   "cell_type": "code",
   "execution_count": null,
   "metadata": {},
   "outputs": [],
   "source": []
  },
  {
   "cell_type": "code",
   "execution_count": null,
   "metadata": {},
   "outputs": [],
   "source": []
  },
  {
   "cell_type": "code",
   "execution_count": null,
   "metadata": {},
   "outputs": [],
   "source": []
  },
  {
   "cell_type": "code",
   "execution_count": null,
   "metadata": {},
   "outputs": [],
   "source": []
  },
  {
   "cell_type": "code",
   "execution_count": null,
   "metadata": {},
   "outputs": [],
   "source": []
  }
 ],
 "metadata": {
  "kernelspec": {
   "display_name": "Python 3",
   "language": "python",
   "name": "python3"
  },
  "language_info": {
   "codemirror_mode": {
    "name": "ipython",
    "version": 3
   },
   "file_extension": ".py",
   "mimetype": "text/x-python",
   "name": "python",
   "nbconvert_exporter": "python",
   "pygments_lexer": "ipython3",
   "version": "3.7.4"
  }
 },
 "nbformat": 4,
 "nbformat_minor": 2
}
